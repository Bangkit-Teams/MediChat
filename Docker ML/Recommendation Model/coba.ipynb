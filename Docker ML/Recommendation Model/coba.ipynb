{
 "cells": [
  {
   "cell_type": "code",
   "execution_count": 2,
   "metadata": {},
   "outputs": [
    {
     "name": "stdout",
     "output_type": "stream",
     "text": [
      "WARNING:tensorflow:From c:\\ProgramData\\anaconda3\\Lib\\site-packages\\keras\\src\\losses.py:2976: The name tf.losses.sparse_softmax_cross_entropy is deprecated. Please use tf.compat.v1.losses.sparse_softmax_cross_entropy instead.\n",
      "\n",
      "WARNING:tensorflow:From c:\\ProgramData\\anaconda3\\Lib\\site-packages\\keras\\src\\backend.py:1398: The name tf.executing_eagerly_outside_functions is deprecated. Please use tf.compat.v1.executing_eagerly_outside_functions instead.\n",
      "\n",
      "1/1 [==============================] - 2s 2s/step\n",
      "[[1.3173721e-02 4.0182119e-04 9.0596424e-03 1.2130391e-04 3.4722085e-05\n",
      "  5.9762236e-04 3.4675528e-03 1.8608192e-03 5.4122520e-05 9.0956462e-05\n",
      "  7.7344524e-03 3.5629846e-02 4.8518935e-03 9.2315292e-03 9.1354281e-01\n",
      "  1.4714384e-04]]\n"
     ]
    }
   ],
   "source": [
    "user_message = \"dok, telinga saya sakit\"\n",
    "from flask import Flask, request, jsonify\n",
    "import os\n",
    "from tensorflow.keras.preprocessing.text import tokenizer_from_json\n",
    "from tensorflow.keras.preprocessing.sequence import pad_sequences\n",
    "from tensorflow.keras.models import load_model\n",
    "import numpy as np\n",
    "\n",
    "model = load_model('recommendation.h5')\n",
    "with open('tokenizer.json') as json_file:\n",
    "    tokenizer_json = json_file.read()\n",
    "tokenizer = tokenizer_from_json(tokenizer_json)\n",
    "# Run the model\n",
    "user_message = tokenizer.texts_to_sequences([user_message])\n",
    "user_message = pad_sequences(user_message, maxlen=120, padding='post', truncating='post')\n",
    "output = model.predict(user_message)\n",
    "print(output)\n",
    "\n",
    "keluaran = np.argmax(output, axis=1)\n",
    "print(keluaran)\n",
    "match keluaran:\n",
    "    case 0:\n",
    "        keluaran = 'dokter umum'\n",
    "    case 1:\n",
    "        keluaran = 'spesialis anak'\n",
    "    case 2:\n",
    "        keluaran = 'spesialis bedah'\n",
    "    case 3:\n",
    "        keluaran = 'spesialis gizi'\n",
    "    case 4:\n",
    "        keluaran = 'spesialis jantung'\n",
    "    case 5:\n",
    "        keluaran = 'spesialis kandungan & kebidanan'\n",
    "    case 6:\n",
    "        keluaran = 'spesialis kulit'\n",
    "    case 7:\n",
    "        keluaran = 'spesialis mata'\n",
    "    case 8:\n",
    "        keluaran = 'spesialis obstetri & ginekologi'\n",
    "    case 9:\n",
    "        keluaran = 'spesialis ortopedi'\n",
    "    case 10:\n",
    "        keluaran = 'spesialis paru'\n",
    "    case 11:\n",
    "        keluaran = 'spesialis penyakit dalam'\n",
    "    case 12:\n",
    "        keluaran = 'spesialis kejiwaan'\n",
    "    case 13:\n",
    "        keluaran = 'spesialis saraf'\n",
    "    case 14:\n",
    "        keluaran = 'spesialis telinga, hidung & tenggorokan'\n",
    "    case 15:\n",
    "        keluaran = 'spesialis urologi'"
   ]
  },
  {
   "cell_type": "code",
   "execution_count": null,
   "metadata": {},
   "outputs": [],
   "source": [
    "print(keluaran)"
   ]
  }
 ],
 "metadata": {
  "kernelspec": {
   "display_name": "base",
   "language": "python",
   "name": "python3"
  },
  "language_info": {
   "codemirror_mode": {
    "name": "ipython",
    "version": 3
   },
   "file_extension": ".py",
   "mimetype": "text/x-python",
   "name": "python",
   "nbconvert_exporter": "python",
   "pygments_lexer": "ipython3",
   "version": "3.11.7"
  }
 },
 "nbformat": 4,
 "nbformat_minor": 2
}

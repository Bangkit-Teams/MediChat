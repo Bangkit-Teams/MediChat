{
 "cells": [
  {
   "cell_type": "markdown",
   "metadata": {},
   "source": [
    "# Download Scrapped Data"
   ]
  },
  {
   "cell_type": "code",
   "execution_count": null,
   "metadata": {},
   "outputs": [],
   "source": [
    "# # Run this if you want to download the dataset\n",
    "# !pip install gdown\n",
    "# import gdown\n",
    "# gdown.download('https://drive.google.com/uc?id=1-9IKXHKjXVStQiJiq1j4ZruDfRnLs0FP', 'combined.csv', quiet=False)"
   ]
  },
  {
   "cell_type": "markdown",
   "metadata": {},
   "source": [
    "# Import Libraries"
   ]
  },
  {
   "cell_type": "code",
   "execution_count": null,
   "metadata": {},
   "outputs": [],
   "source": [
    "import pandas as pd\n",
    "import re"
   ]
  },
  {
   "cell_type": "markdown",
   "metadata": {},
   "source": [
    "# Read Data"
   ]
  },
  {
   "cell_type": "code",
   "execution_count": null,
   "metadata": {},
   "outputs": [],
   "source": [
    "dataframe = pd.read_csv(\"combined.csv\")\n",
    "dataframe"
   ]
  },
  {
   "cell_type": "code",
   "execution_count": null,
   "metadata": {},
   "outputs": [],
   "source": [
    "dataframe.describe()"
   ]
  },
  {
   "cell_type": "markdown",
   "metadata": {},
   "source": [
    "# Preprocess Data"
   ]
  },
  {
   "cell_type": "code",
   "execution_count": null,
   "metadata": {},
   "outputs": [],
   "source": [
    "def cleaning_data(dataframe):\n",
    "   dataframe = dataframe.dropna(subset=\"Question\")\n",
    "   dataframe = dataframe.dropna(subset=\" Answer\")\n",
    "   dataframe = dataframe.drop_duplicates(subset=\"Question\")\n",
    "   dataframe = dataframe.drop_duplicates(subset=\" Answer\")\n",
    "   dataframe[\"Question\"] = dataframe[\"Question\"].str.lower()\n",
    "   dataframe[\" Answer\"] = dataframe[\" Answer\"].str.lower()\n",
    "   dataframe = dataframe[dataframe[\" Answer\"].str.contains(\"spesialis\", case=False, na=False)]\n",
    "   return dataframe\n",
    "\n",
    "spesialis_dataframe = cleaning_data(dataframe.copy())"
   ]
  },
  {
   "cell_type": "code",
   "execution_count": null,
   "metadata": {},
   "outputs": [],
   "source": [
    "spesialis_dataframe.describe()"
   ]
  },
  {
   "cell_type": "code",
   "execution_count": null,
   "metadata": {},
   "outputs": [],
   "source": [
    "def extract_specialist(answer):\n",
    "   match = re.search(r'spesialis [a-z]+', answer, re.IGNORECASE)\n",
    "   return match.group() if match else None"
   ]
  },
  {
   "cell_type": "code",
   "execution_count": null,
   "metadata": {},
   "outputs": [],
   "source": [
    "recommendation_df = spesialis_dataframe.copy()\n",
    "recommendation_df['Rekomendasi Dokter'] = recommendation_df[' Answer'].apply(extract_specialist)\n",
    "recommendation_df"
   ]
  },
  {
   "cell_type": "code",
   "execution_count": null,
   "metadata": {},
   "outputs": [],
   "source": [
    "recommendation_df.describe()"
   ]
  },
  {
   "cell_type": "code",
   "execution_count": null,
   "metadata": {},
   "outputs": [],
   "source": [
    "cleaned_df = recommendation_df.dropna()\n",
    "cleaned_df"
   ]
  },
  {
   "cell_type": "code",
   "execution_count": null,
   "metadata": {},
   "outputs": [],
   "source": [
    "unique = [\n",
    "   {\n",
    "      \"index\": cleaned_df.index[cleaned_df['Rekomendasi Dokter'] == value][0],\n",
    "     \"label\": value\n",
    "    } for value in cleaned_df['Rekomendasi Dokter'].unique()\n",
    "]\n",
    "unique"
   ]
  },
  {
   "cell_type": "code",
   "execution_count": null,
   "metadata": {},
   "outputs": [],
   "source": [
    "dataframe[' Answer'].iloc[302689]"
   ]
  },
  {
   "cell_type": "code",
   "execution_count": null,
   "metadata": {},
   "outputs": [],
   "source": [
    "def correct_labels(dataframe):\n",
    "   dataframe['Rekomendasi Dokter'] = dataframe['Rekomendasi Dokter'].str.replace(\"penyakit\", \"penyakit dalam\", regex=False)\n",
    "   dataframe['Rekomendasi Dokter'] = dataframe['Rekomendasi Dokter'].str.replace(\"hamtologi\", \"hematologi\", regex=False)\n",
    "   dataframe['Rekomendasi Dokter'] = dataframe['Rekomendasi Dokter'].str.replace(\"orthopedi|tulang\", \"ortopedi\", regex=True)\n",
    "   dataframe['Rekomendasi Dokter'] = dataframe['Rekomendasi Dokter'].str.replace(\"obsgyn|obgyn\", \"obstetri\", regex=True)\n",
    "   dataframe['Rekomendasi Dokter'] = dataframe['Rekomendasi Dokter'].str.replace(\"rehab\", \"rehabilitasi\", regex=False)\n",
    "   dataframe['Rekomendasi Dokter'] = dataframe['Rekomendasi Dokter'].str.replace(\"kejiwaan|kesehatan\", \"psikiater\", regex=True)\n",
    "   dataframe['Rekomendasi Dokter'] = dataframe['Rekomendasi Dokter'].str.replace(\"konservasi\", \"konservasi gigi\", regex=False)\n",
    "   dataframe['Rekomendasi Dokter'] = dataframe['Rekomendasi Dokter'].str.replace(\"sarah|neurologi\", \"saraf\", regex=True)\n",
    "   dataframe['Rekomendasi Dokter'] = dataframe['Rekomendasi Dokter'].str.replace(\"tumbuh\", \"anak\", regex=False)\n",
    "   dataframe['Rekomendasi Dokter'] = dataframe['Rekomendasi Dokter'].str.replace(\"endokrinologi\", \"endokrin\", regex=False)\n",
    "   dataframe['Rekomendasi Dokter'] = dataframe['Rekomendasi Dokter'].str.replace(\"spesialis (yang|lebih|tertentu|lain|lainnya|apa|karena)\", \"dokter umum\", regex=True)\n",
    "   \n",
    "   return dataframe"
   ]
  },
  {
   "cell_type": "code",
   "execution_count": null,
   "metadata": {},
   "outputs": [],
   "source": [
    "tes_df = correct_labels(cleaned_df.copy())\n",
    "tes_df"
   ]
  },
  {
   "cell_type": "code",
   "execution_count": null,
   "metadata": {},
   "outputs": [],
   "source": [
    "tes_df.describe()"
   ]
  },
  {
   "cell_type": "code",
   "execution_count": null,
   "metadata": {},
   "outputs": [],
   "source": [
    "cleaned_df[cleaned_df['Rekomendasi Dokter'] == \"spesialis di\"].index"
   ]
  },
  {
   "cell_type": "code",
   "execution_count": null,
   "metadata": {},
   "outputs": [],
   "source": []
  }
 ],
 "metadata": {
  "kernelspec": {
   "display_name": "Python 3",
   "language": "python",
   "name": "python3"
  },
  "language_info": {
   "codemirror_mode": {
    "name": "ipython",
    "version": 3
   },
   "file_extension": ".py",
   "mimetype": "text/x-python",
   "name": "python",
   "nbconvert_exporter": "python",
   "pygments_lexer": "ipython3",
   "version": "3.10.11"
  }
 },
 "nbformat": 4,
 "nbformat_minor": 2
}

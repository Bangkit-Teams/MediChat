{
 "cells": [
  {
   "cell_type": "markdown",
   "metadata": {},
   "source": [
    "# Download Scrapped Data"
   ]
  },
  {
   "cell_type": "code",
   "execution_count": 32,
   "metadata": {},
   "outputs": [],
   "source": [
    "# Run this if you want to download the dataset\n",
    "# !pip install gdown\n",
    "# import gdown\n",
    "# gdown.download('https://drive.google.com/uc?id=1-9IKXHKjXVStQiJiq1j4ZruDfRnLs0FP', 'combined.csv', quiet=False)"
   ]
  },
  {
   "cell_type": "markdown",
   "metadata": {},
   "source": [
    "# Preprocess the Data"
   ]
  },
  {
   "cell_type": "code",
   "execution_count": 33,
   "metadata": {},
   "outputs": [],
   "source": [
    "import pandas as pd\n",
    "\n",
    "df = pd.read_csv('combined.csv')\n",
    "shuffled_light_df = df.sample(5000)"
   ]
  },
  {
   "cell_type": "code",
   "execution_count": null,
   "metadata": {},
   "outputs": [
    {
     "data": {
      "text/html": [
       "<div>\n",
       "<style scoped>\n",
       "    .dataframe tbody tr th:only-of-type {\n",
       "        vertical-align: middle;\n",
       "    }\n",
       "\n",
       "    .dataframe tbody tr th {\n",
       "        vertical-align: top;\n",
       "    }\n",
       "\n",
       "    .dataframe thead th {\n",
       "        text-align: right;\n",
       "    }\n",
       "</style>\n",
       "<table border=\"1\" class=\"dataframe\">\n",
       "  <thead>\n",
       "    <tr style=\"text-align: right;\">\n",
       "      <th></th>\n",
       "      <th>Question</th>\n",
       "      <th>Answer</th>\n",
       "    </tr>\n",
       "  </thead>\n",
       "  <tbody>\n",
       "    <tr>\n",
       "      <th>49206</th>\n",
       "      <td>Assalamualikum dok , saya irma 29 th .2 bln yg...</td>\n",
       "      <td>Salam alo\\nTerima kasih telah bertanya kepada ...</td>\n",
       "    </tr>\n",
       "    <tr>\n",
       "      <th>270911</th>\n",
       "      <td>siang dok. dok saya sudah 2 bulan mengalami ke...</td>\n",
       "      <td>Halo Ndysh, terimakasih telah bertanya di webs...</td>\n",
       "    </tr>\n",
       "    <tr>\n",
       "      <th>147863</th>\n",
       "      <td>Dok kenapa ya saya setelah lepas dri krim pemu...</td>\n",
       "      <td>Alo Annisa,\\nApakah Anda mengetahui komposisi ...</td>\n",
       "    </tr>\n",
       "    <tr>\n",
       "      <th>141225</th>\n",
       "      <td>Apa manfaat amezua cakra plus,dan bagai mana c...</td>\n",
       "      <td>Alo Budi, Terima kasih atas pertanyaannya.\\nAm...</td>\n",
       "    </tr>\n",
       "    <tr>\n",
       "      <th>227544</th>\n",
       "      <td>Malem dok, saya mau tanya. Sudah 1bulan terakh...</td>\n",
       "      <td>Halo,\\n \\nKeluhan Anda bisa disebabkan karena=...</td>\n",
       "    </tr>\n",
       "  </tbody>\n",
       "</table>\n",
       "</div>"
      ],
      "text/plain": [
       "                                                 Question  \\\n",
       "49206   Assalamualikum dok , saya irma 29 th .2 bln yg...   \n",
       "270911  siang dok. dok saya sudah 2 bulan mengalami ke...   \n",
       "147863  Dok kenapa ya saya setelah lepas dri krim pemu...   \n",
       "141225  Apa manfaat amezua cakra plus,dan bagai mana c...   \n",
       "227544  Malem dok, saya mau tanya. Sudah 1bulan terakh...   \n",
       "\n",
       "                                                   Answer  \n",
       "49206   Salam alo\\nTerima kasih telah bertanya kepada ...  \n",
       "270911  Halo Ndysh, terimakasih telah bertanya di webs...  \n",
       "147863  Alo Annisa,\\nApakah Anda mengetahui komposisi ...  \n",
       "141225  Alo Budi, Terima kasih atas pertanyaannya.\\nAm...  \n",
       "227544  Halo,\\n \\nKeluhan Anda bisa disebabkan karena=...  "
      ]
     },
     "execution_count": 27,
     "metadata": {},
     "output_type": "execute_result"
    }
   ],
   "source": [
    "shuffled_light_df.head()"
   ]
  },
  {
   "cell_type": "code",
   "execution_count": null,
   "metadata": {},
   "outputs": [
    {
     "data": {
      "text/html": [
       "<div>\n",
       "<style scoped>\n",
       "    .dataframe tbody tr th:only-of-type {\n",
       "        vertical-align: middle;\n",
       "    }\n",
       "\n",
       "    .dataframe tbody tr th {\n",
       "        vertical-align: top;\n",
       "    }\n",
       "\n",
       "    .dataframe thead th {\n",
       "        text-align: right;\n",
       "    }\n",
       "</style>\n",
       "<table border=\"1\" class=\"dataframe\">\n",
       "  <thead>\n",
       "    <tr style=\"text-align: right;\">\n",
       "      <th></th>\n",
       "      <th>Question</th>\n",
       "      <th>Answer</th>\n",
       "    </tr>\n",
       "  </thead>\n",
       "  <tbody>\n",
       "    <tr>\n",
       "      <th>49206</th>\n",
       "      <td>assalamualikum dok , saya irma 29 th .2 bln yg...</td>\n",
       "      <td>salam alo\\nterima kasih telah bertanya kepada ...</td>\n",
       "    </tr>\n",
       "    <tr>\n",
       "      <th>270911</th>\n",
       "      <td>siang dok. dok saya sudah 2 bulan mengalami ke...</td>\n",
       "      <td>halo ndysh, terimakasih telah bertanya di webs...</td>\n",
       "    </tr>\n",
       "    <tr>\n",
       "      <th>147863</th>\n",
       "      <td>dok kenapa ya saya setelah lepas dri krim pemu...</td>\n",
       "      <td>alo annisa,\\napakah anda mengetahui komposisi ...</td>\n",
       "    </tr>\n",
       "    <tr>\n",
       "      <th>141225</th>\n",
       "      <td>apa manfaat amezua cakra plus,dan bagai mana c...</td>\n",
       "      <td>alo budi, terima kasih atas pertanyaannya.\\nam...</td>\n",
       "    </tr>\n",
       "    <tr>\n",
       "      <th>227544</th>\n",
       "      <td>malem dok, saya mau tanya. sudah 1bulan terakh...</td>\n",
       "      <td>halo,\\n \\nkeluhan anda bisa disebabkan karena=...</td>\n",
       "    </tr>\n",
       "  </tbody>\n",
       "</table>\n",
       "</div>"
      ],
      "text/plain": [
       "                                                 Question  \\\n",
       "49206   assalamualikum dok , saya irma 29 th .2 bln yg...   \n",
       "270911  siang dok. dok saya sudah 2 bulan mengalami ke...   \n",
       "147863  dok kenapa ya saya setelah lepas dri krim pemu...   \n",
       "141225  apa manfaat amezua cakra plus,dan bagai mana c...   \n",
       "227544  malem dok, saya mau tanya. sudah 1bulan terakh...   \n",
       "\n",
       "                                                   Answer  \n",
       "49206   salam alo\\nterima kasih telah bertanya kepada ...  \n",
       "270911  halo ndysh, terimakasih telah bertanya di webs...  \n",
       "147863  alo annisa,\\napakah anda mengetahui komposisi ...  \n",
       "141225  alo budi, terima kasih atas pertanyaannya.\\nam...  \n",
       "227544  halo,\\n \\nkeluhan anda bisa disebabkan karena=...  "
      ]
     },
     "execution_count": 28,
     "metadata": {},
     "output_type": "execute_result"
    }
   ],
   "source": [
    "\"\"\"\n",
    "Cell generated by Data Wrangler.\n",
    "\"\"\"\n",
    "def clean_data(df):\n",
    "    # Drop rows with missing data in column: 'Question'\n",
    "    df = df.dropna(subset=['Question'])\n",
    "    # Drop rows with missing data in column: ' Answer'\n",
    "    df = df.dropna(subset=[' Answer'])\n",
    "    # Drop duplicate rows in column: 'Question'\n",
    "    df = df.drop_duplicates(subset=['Question'])\n",
    "    # Drop duplicate rows in column: ' Answer'\n",
    "    df = df.drop_duplicates(subset=[' Answer'])\n",
    "    # Convert text to lowercase in columns: 'Question', ' Answer'\n",
    "    df['Question'] = df['Question'].str.lower()\n",
    "    df[' Answer'] = df[' Answer'].str.lower()\n",
    "    return df\n",
    "\n",
    "df_cleaned_missing_values = clean_data(shuffled_light_df.copy())\n",
    "df_cleaned_missing_values.head()"
   ]
  },
  {
   "cell_type": "code",
   "execution_count": null,
   "metadata": {},
   "outputs": [
    {
     "name": "stderr",
     "output_type": "stream",
     "text": [
      "<>:2: SyntaxWarning: invalid escape sequence '\\S'\n",
      "<>:3: SyntaxWarning: invalid escape sequence '\\s'\n",
      "<>:4: SyntaxWarning: invalid escape sequence '\\s'\n",
      "<>:5: SyntaxWarning: invalid escape sequence '\\s'\n",
      "<>:6: SyntaxWarning: invalid escape sequence '\\s'\n",
      "<>:7: SyntaxWarning: invalid escape sequence '\\s'\n",
      "<>:8: SyntaxWarning: invalid escape sequence '\\s'\n",
      "<>:9: SyntaxWarning: invalid escape sequence '\\s'\n",
      "<>:10: SyntaxWarning: invalid escape sequence '\\s'\n",
      "<>:11: SyntaxWarning: invalid escape sequence '\\s'\n",
      "<>:12: SyntaxWarning: invalid escape sequence '\\s'\n",
      "<>:13: SyntaxWarning: invalid escape sequence '\\s'\n",
      "<>:14: SyntaxWarning: invalid escape sequence '\\s'\n",
      "<>:15: SyntaxWarning: invalid escape sequence '\\s'\n",
      "<>:16: SyntaxWarning: invalid escape sequence '\\s'\n",
      "<>:17: SyntaxWarning: invalid escape sequence '\\s'\n",
      "<>:18: SyntaxWarning: invalid escape sequence '\\s'\n",
      "<>:2: SyntaxWarning: invalid escape sequence '\\S'\n",
      "<>:3: SyntaxWarning: invalid escape sequence '\\s'\n",
      "<>:4: SyntaxWarning: invalid escape sequence '\\s'\n",
      "<>:5: SyntaxWarning: invalid escape sequence '\\s'\n",
      "<>:6: SyntaxWarning: invalid escape sequence '\\s'\n",
      "<>:7: SyntaxWarning: invalid escape sequence '\\s'\n",
      "<>:8: SyntaxWarning: invalid escape sequence '\\s'\n",
      "<>:9: SyntaxWarning: invalid escape sequence '\\s'\n",
      "<>:10: SyntaxWarning: invalid escape sequence '\\s'\n",
      "<>:11: SyntaxWarning: invalid escape sequence '\\s'\n",
      "<>:12: SyntaxWarning: invalid escape sequence '\\s'\n",
      "<>:13: SyntaxWarning: invalid escape sequence '\\s'\n",
      "<>:14: SyntaxWarning: invalid escape sequence '\\s'\n",
      "<>:15: SyntaxWarning: invalid escape sequence '\\s'\n",
      "<>:16: SyntaxWarning: invalid escape sequence '\\s'\n",
      "<>:17: SyntaxWarning: invalid escape sequence '\\s'\n",
      "<>:18: SyntaxWarning: invalid escape sequence '\\s'\n",
      "C:\\Users\\ryori\\AppData\\Local\\Temp\\ipykernel_12396\\3259310386.py:2: SyntaxWarning: invalid escape sequence '\\S'\n",
      "  df_cleaned_missing_values[' Answer'] = df_cleaned_missing_values[' Answer'].str.replace(\"\\S*\\.com\\S*\", \"\", case=False, regex=True)\n",
      "C:\\Users\\ryori\\AppData\\Local\\Temp\\ipykernel_12396\\3259310386.py:3: SyntaxWarning: invalid escape sequence '\\s'\n",
      "  df_cleaned_missing_values[' Answer'] = df_cleaned_missing_values[' Answer'].str.replace(\"halo[\\s,][a-z \\s]+[.,\\n]\", \"\", case=False, regex=True)\n",
      "C:\\Users\\ryori\\AppData\\Local\\Temp\\ipykernel_12396\\3259310386.py:4: SyntaxWarning: invalid escape sequence '\\s'\n",
      "  df_cleaned_missing_values[' Answer'] = df_cleaned_missing_values[' Answer'].str.replace(\"hai[\\s,][a-z \\s]+[.,\\n]\", \"\", case=False, regex=True)\n",
      "C:\\Users\\ryori\\AppData\\Local\\Temp\\ipykernel_12396\\3259310386.py:5: SyntaxWarning: invalid escape sequence '\\s'\n",
      "  df_cleaned_missing_values[' Answer'] = df_cleaned_missing_values[' Answer'].str.replace(\"alo[\\s,][a-z \\s]+[.,\\n]\", \"\", case=False, regex=True)\n",
      "C:\\Users\\ryori\\AppData\\Local\\Temp\\ipykernel_12396\\3259310386.py:6: SyntaxWarning: invalid escape sequence '\\s'\n",
      "  df_cleaned_missing_values[' Answer'] = df_cleaned_missing_values[' Answer'].str.replace(\"hallo[\\s,][a-z \\s]+[.,\\n]\", \"\", case=False, regex=True)\n",
      "C:\\Users\\ryori\\AppData\\Local\\Temp\\ipykernel_12396\\3259310386.py:7: SyntaxWarning: invalid escape sequence '\\s'\n",
      "  df_cleaned_missing_values[' Answer'] = df_cleaned_missing_values[' Answer'].str.replace(\"hei[\\s,][a-z \\s]+[.,\\n]\", \"\", case=False, regex=True)\n",
      "C:\\Users\\ryori\\AppData\\Local\\Temp\\ipykernel_12396\\3259310386.py:8: SyntaxWarning: invalid escape sequence '\\s'\n",
      "  df_cleaned_missing_values[' Answer'] = df_cleaned_missing_values[' Answer'].str.replace(\"hay[\\s,][a-z \\s]+[.,\\n]\", \"\", case=False, regex=True)\n",
      "C:\\Users\\ryori\\AppData\\Local\\Temp\\ipykernel_12396\\3259310386.py:9: SyntaxWarning: invalid escape sequence '\\s'\n",
      "  df_cleaned_missing_values[' Answer'] = df_cleaned_missing_values[' Answer'].str.replace(\"terimakasih[\\s,][a-z \\s]+[.,\\n]\", \"\", case=False, regex=True)\n",
      "C:\\Users\\ryori\\AppData\\Local\\Temp\\ipykernel_12396\\3259310386.py:10: SyntaxWarning: invalid escape sequence '\\s'\n",
      "  df_cleaned_missing_values[' Answer'] = df_cleaned_missing_values[' Answer'].str.replace(\"terima kasih[\\s,][a-z \\s]+[.,\\n]\", \"\", case=False, regex=True)\n",
      "C:\\Users\\ryori\\AppData\\Local\\Temp\\ipykernel_12396\\3259310386.py:11: SyntaxWarning: invalid escape sequence '\\s'\n",
      "  df_cleaned_missing_values[' Answer'] = df_cleaned_missing_values[' Answer'].str.replace(\"halo[,.\\n\\s]\", \"\", case=False, regex=True)\n",
      "C:\\Users\\ryori\\AppData\\Local\\Temp\\ipykernel_12396\\3259310386.py:12: SyntaxWarning: invalid escape sequence '\\s'\n",
      "  df_cleaned_missing_values[' Answer'] = df_cleaned_missing_values[' Answer'].str.replace(\"hai[,.\\n\\s]\", \"\", case=False, regex=True)\n",
      "C:\\Users\\ryori\\AppData\\Local\\Temp\\ipykernel_12396\\3259310386.py:13: SyntaxWarning: invalid escape sequence '\\s'\n",
      "  df_cleaned_missing_values[' Answer'] = df_cleaned_missing_values[' Answer'].str.replace(\"alo[,.\\n\\s]\", \"\", case=False, regex=True)\n",
      "C:\\Users\\ryori\\AppData\\Local\\Temp\\ipykernel_12396\\3259310386.py:14: SyntaxWarning: invalid escape sequence '\\s'\n",
      "  df_cleaned_missing_values[' Answer'] = df_cleaned_missing_values[' Answer'].str.replace(\"hallo[,.\\n\\s]\", \"\", case=False, regex=True)\n",
      "C:\\Users\\ryori\\AppData\\Local\\Temp\\ipykernel_12396\\3259310386.py:15: SyntaxWarning: invalid escape sequence '\\s'\n",
      "  df_cleaned_missing_values[' Answer'] = df_cleaned_missing_values[' Answer'].str.replace(\"hei[,.\\n\\s]\", \"\", case=False, regex=True)\n",
      "C:\\Users\\ryori\\AppData\\Local\\Temp\\ipykernel_12396\\3259310386.py:16: SyntaxWarning: invalid escape sequence '\\s'\n",
      "  df_cleaned_missing_values[' Answer'] = df_cleaned_missing_values[' Answer'].str.replace(\"hay[,.\\n\\s]\", \"\", case=False, regex=True)\n",
      "C:\\Users\\ryori\\AppData\\Local\\Temp\\ipykernel_12396\\3259310386.py:17: SyntaxWarning: invalid escape sequence '\\s'\n",
      "  df_cleaned_missing_values[' Answer'] = df_cleaned_missing_values[' Answer'].str.replace(\"terimakasih[,.\\n\\s]\", \"\", case=False, regex=True)\n",
      "C:\\Users\\ryori\\AppData\\Local\\Temp\\ipykernel_12396\\3259310386.py:18: SyntaxWarning: invalid escape sequence '\\s'\n",
      "  df_cleaned_missing_values[' Answer'] = df_cleaned_missing_values[' Answer'].str.replace(\"terima kasih[,.\\n\\s]\", \"\", case=False, regex=True)\n"
     ]
    }
   ],
   "source": [
    "def clean_identity_info(df):\n",
    "    df[' Answer'] = df[' Answer'].str.replace(\"\\S*\\.com\\S*\", \"\", case=False, regex=True)\n",
    "    df[' Answer'] = df[' Answer'].str.replace(\"halo[\\s,][a-z \\s]+[.,\\n]\", \"\", case=False, regex=True)\n",
    "    df[' Answer'] = df[' Answer'].str.replace(\"hai[\\s,][a-z \\s]+[.,\\n]\", \"\", case=False, regex=True)\n",
    "    df[' Answer'] = df[' Answer'].str.replace(\"alo[\\s,][a-z \\s]+[.,\\n]\", \"\", case=False, regex=True)\n",
    "    df[' Answer'] = df[' Answer'].str.replace(\"hallo[\\s,][a-z \\s]+[.,\\n]\", \"\", case=False, regex=True)\n",
    "    df[' Answer'] = df[' Answer'].str.replace(\"hei[\\s,][a-z \\s]+[.,\\n]\", \"\", case=False, regex=True)\n",
    "    df[' Answer'] = df[' Answer'].str.replace(\"hay[\\s,][a-z \\s]+[.,\\n]\", \"\", case=False, regex=True)\n",
    "    df[' Answer'] = df[' Answer'].str.replace(\"terimakasih[\\s,][a-z \\s]+[.,\\n]\", \"\", case=False, regex=True)\n",
    "    df[' Answer'] = df[' Answer'].str.replace(\"terima kasih[\\s,][a-z \\s]+[.,\\n]\", \"\", case=False, regex=True)\n",
    "    df[' Answer'] = df[' Answer'].str.replace(\"halo[,.\\n\\s]\", \"\", case=False, regex=True)\n",
    "    df[' Answer'] = df[' Answer'].str.replace(\"hai[,.\\n\\s]\", \"\", case=False, regex=True)\n",
    "    df[' Answer'] = df[' Answer'].str.replace(\"alo[,.\\n\\s]\", \"\", case=False, regex=True)\n",
    "    df[' Answer'] = df[' Answer'].str.replace(\"hallo[,.\\n\\s]\", \"\", case=False, regex=True)\n",
    "    df[' Answer'] = df[' Answer'].str.replace(\"hei[,.\\n\\s]\", \"\", case=False, regex=True)\n",
    "    df[' Answer'] = df[' Answer'].str.replace(\"hay[,.\\n\\s]\", \"\", case=False, regex=True)\n",
    "    df[' Answer'] = df[' Answer'].str.replace(\"terimakasih[,.\\n\\s]\", \"\", case=False, regex=True)\n",
    "    df[' Answer'] = df[' Answer'].str.replace(\"terima kasih[,.\\n\\s]\", \"\", case=False, regex=True)\n",
    "    # cleaning dr name\n",
    "    df[' Answer'] = df[' Answer'].str.replace(\"dr\\\\.[^.,]*\", \"\", case=False, regex=True)\n",
    "    \n",
    "    return df"
   ]
  },
  {
   "cell_type": "markdown",
   "metadata": {},
   "source": [
    "# Export Cleaned Data to CSV"
   ]
  },
  {
   "cell_type": "code",
   "execution_count": null,
   "metadata": {},
   "outputs": [],
   "source": [
    "small_data = clean_identity_info(df_cleaned_missing_values.copy())\n",
    "\n",
    "# Assuming you have a DataFrame named df\n",
    "small_data.to_csv('output.csv', index=False)"
   ]
  }
 ],
 "metadata": {
  "kernelspec": {
   "display_name": "python_tensorflow",
   "language": "python",
   "name": "python3"
  },
  "language_info": {
   "codemirror_mode": {
    "name": "ipython",
    "version": 3
   },
   "file_extension": ".py",
   "mimetype": "text/x-python",
   "name": "python",
   "nbconvert_exporter": "python",
   "pygments_lexer": "ipython3",
   "version": "3.12.3"
  }
 },
 "nbformat": 4,
 "nbformat_minor": 2
}

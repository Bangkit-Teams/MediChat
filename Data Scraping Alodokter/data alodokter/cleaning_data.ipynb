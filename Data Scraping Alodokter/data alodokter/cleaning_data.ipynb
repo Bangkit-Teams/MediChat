{
 "cells": [
  {
   "cell_type": "markdown",
   "metadata": {},
   "source": [
    "# Download Scrapped Data"
   ]
  },
  {
   "cell_type": "code",
   "execution_count": 1,
   "metadata": {},
   "outputs": [
    {
     "name": "stdout",
     "output_type": "stream",
     "text": [
      "Requirement already satisfied: gdown in c:\\users\\muhamad fauqi\\appdata\\local\\programs\\python\\python312\\lib\\site-packages (5.2.0)\n",
      "Requirement already satisfied: beautifulsoup4 in c:\\users\\muhamad fauqi\\appdata\\local\\programs\\python\\python312\\lib\\site-packages (from gdown) (4.12.3)\n",
      "Requirement already satisfied: filelock in c:\\users\\muhamad fauqi\\appdata\\local\\programs\\python\\python312\\lib\\site-packages (from gdown) (3.14.0)\n",
      "Requirement already satisfied: requests[socks] in c:\\users\\muhamad fauqi\\appdata\\local\\programs\\python\\python312\\lib\\site-packages (from gdown) (2.31.0)\n",
      "Requirement already satisfied: tqdm in c:\\users\\muhamad fauqi\\appdata\\local\\programs\\python\\python312\\lib\\site-packages (from gdown) (4.66.4)\n",
      "Requirement already satisfied: soupsieve>1.2 in c:\\users\\muhamad fauqi\\appdata\\local\\programs\\python\\python312\\lib\\site-packages (from beautifulsoup4->gdown) (2.5)\n",
      "Requirement already satisfied: charset-normalizer<4,>=2 in c:\\users\\muhamad fauqi\\appdata\\local\\programs\\python\\python312\\lib\\site-packages (from requests[socks]->gdown) (3.3.2)\n",
      "Requirement already satisfied: idna<4,>=2.5 in c:\\users\\muhamad fauqi\\appdata\\local\\programs\\python\\python312\\lib\\site-packages (from requests[socks]->gdown) (3.6)\n",
      "Requirement already satisfied: urllib3<3,>=1.21.1 in c:\\users\\muhamad fauqi\\appdata\\local\\programs\\python\\python312\\lib\\site-packages (from requests[socks]->gdown) (2.2.0)\n",
      "Requirement already satisfied: certifi>=2017.4.17 in c:\\users\\muhamad fauqi\\appdata\\local\\programs\\python\\python312\\lib\\site-packages (from requests[socks]->gdown) (2024.2.2)\n",
      "Requirement already satisfied: PySocks!=1.5.7,>=1.5.6 in c:\\users\\muhamad fauqi\\appdata\\local\\programs\\python\\python312\\lib\\site-packages (from requests[socks]->gdown) (1.7.1)\n",
      "Requirement already satisfied: colorama in c:\\users\\muhamad fauqi\\appdata\\local\\programs\\python\\python312\\lib\\site-packages (from tqdm->gdown) (0.4.6)\n"
     ]
    },
    {
     "name": "stderr",
     "output_type": "stream",
     "text": [
      "Downloading...\n",
      "From (original): https://drive.google.com/uc?id=1-9IKXHKjXVStQiJiq1j4ZruDfRnLs0FP\n",
      "From (redirected): https://drive.google.com/uc?id=1-9IKXHKjXVStQiJiq1j4ZruDfRnLs0FP&confirm=t&uuid=921017be-ca36-4ae7-8869-a7830442debf\n",
      "To: c:\\Users\\Muhamad Fauqi\\Downloads\\combined.csv\n",
      "100%|██████████| 631M/631M [15:01<00:00, 699kB/s]  \n"
     ]
    },
    {
     "data": {
      "text/plain": [
       "'combined.csv'"
      ]
     },
     "execution_count": 1,
     "metadata": {},
     "output_type": "execute_result"
    }
   ],
   "source": [
    "# Run this if you want to download the dataset\n",
    "!pip install gdown\n",
    "import gdown\n",
    "gdown.download('https://drive.google.com/uc?id=1-9IKXHKjXVStQiJiq1j4ZruDfRnLs0FP', 'combined.csv', quiet=False)"
   ]
  },
  {
   "cell_type": "markdown",
   "metadata": {},
   "source": [
    "# Preprocess the Data"
   ]
  },
  {
   "cell_type": "code",
   "execution_count": 2,
   "metadata": {},
   "outputs": [],
   "source": [
    "import pandas as pd\n",
    "\n",
    "df = pd.read_csv('combined.csv')\n",
    "shuffled_light_df = df.sample(50000)"
   ]
  },
  {
   "cell_type": "code",
   "execution_count": 3,
   "metadata": {},
   "outputs": [
    {
     "data": {
      "text/html": [
       "<div>\n",
       "<style scoped>\n",
       "    .dataframe tbody tr th:only-of-type {\n",
       "        vertical-align: middle;\n",
       "    }\n",
       "\n",
       "    .dataframe tbody tr th {\n",
       "        vertical-align: top;\n",
       "    }\n",
       "\n",
       "    .dataframe thead th {\n",
       "        text-align: right;\n",
       "    }\n",
       "</style>\n",
       "<table border=\"1\" class=\"dataframe\">\n",
       "  <thead>\n",
       "    <tr style=\"text-align: right;\">\n",
       "      <th></th>\n",
       "      <th>Question</th>\n",
       "      <th>Answer</th>\n",
       "    </tr>\n",
       "  </thead>\n",
       "  <tbody>\n",
       "    <tr>\n",
       "      <th>88325</th>\n",
       "      <td>Dokter saya ibu rumah tangga saya punya anak b...</td>\n",
       "      <td>Alo Ibu,\\nTerima kasih atas pertanyaannya.\\nBe...</td>\n",
       "    </tr>\n",
       "    <tr>\n",
       "      <th>74345</th>\n",
       "      <td>Dok apakah Acetylcysteine bisa digunakan untuk...</td>\n",
       "      <td>Alo Febriana, Terima kasih atas pertanyaannya....</td>\n",
       "    </tr>\n",
       "    <tr>\n",
       "      <th>168115</th>\n",
       "      <td>Hallo dokter, saya Risky Samuel, saya berumur ...</td>\n",
       "      <td>Alo Risky Selamat malam, terimakasih atas pert...</td>\n",
       "    </tr>\n",
       "    <tr>\n",
       "      <th>313612</th>\n",
       "      <td>Dok, saya mau tanya, kenapa tiba2 kepala penis...</td>\n",
       "      <td>Halo Jhosua.\\nTerimakasih atas pertanyaan Anda...</td>\n",
       "    </tr>\n",
       "    <tr>\n",
       "      <th>313360</th>\n",
       "      <td>halo dok.saya mw tanya .sya ko sering kencing ...</td>\n",
       "      <td>Hai Novi Sagita,\\nTerimakasih telah bertanya k...</td>\n",
       "    </tr>\n",
       "  </tbody>\n",
       "</table>\n",
       "</div>"
      ],
      "text/plain": [
       "                                                 Question  \\\n",
       "88325   Dokter saya ibu rumah tangga saya punya anak b...   \n",
       "74345   Dok apakah Acetylcysteine bisa digunakan untuk...   \n",
       "168115  Hallo dokter, saya Risky Samuel, saya berumur ...   \n",
       "313612  Dok, saya mau tanya, kenapa tiba2 kepala penis...   \n",
       "313360  halo dok.saya mw tanya .sya ko sering kencing ...   \n",
       "\n",
       "                                                   Answer  \n",
       "88325   Alo Ibu,\\nTerima kasih atas pertanyaannya.\\nBe...  \n",
       "74345   Alo Febriana, Terima kasih atas pertanyaannya....  \n",
       "168115  Alo Risky Selamat malam, terimakasih atas pert...  \n",
       "313612  Halo Jhosua.\\nTerimakasih atas pertanyaan Anda...  \n",
       "313360  Hai Novi Sagita,\\nTerimakasih telah bertanya k...  "
      ]
     },
     "execution_count": 3,
     "metadata": {},
     "output_type": "execute_result"
    }
   ],
   "source": [
    "shuffled_light_df.head()"
   ]
  },
  {
   "cell_type": "code",
   "execution_count": 4,
   "metadata": {},
   "outputs": [
    {
     "data": {
      "text/html": [
       "<div>\n",
       "<style scoped>\n",
       "    .dataframe tbody tr th:only-of-type {\n",
       "        vertical-align: middle;\n",
       "    }\n",
       "\n",
       "    .dataframe tbody tr th {\n",
       "        vertical-align: top;\n",
       "    }\n",
       "\n",
       "    .dataframe thead th {\n",
       "        text-align: right;\n",
       "    }\n",
       "</style>\n",
       "<table border=\"1\" class=\"dataframe\">\n",
       "  <thead>\n",
       "    <tr style=\"text-align: right;\">\n",
       "      <th></th>\n",
       "      <th>Question</th>\n",
       "      <th>Answer</th>\n",
       "    </tr>\n",
       "  </thead>\n",
       "  <tbody>\n",
       "    <tr>\n",
       "      <th>88325</th>\n",
       "      <td>dokter saya ibu rumah tangga saya punya anak b...</td>\n",
       "      <td>alo ibu,\\nterima kasih atas pertanyaannya.\\nbe...</td>\n",
       "    </tr>\n",
       "    <tr>\n",
       "      <th>74345</th>\n",
       "      <td>dok apakah acetylcysteine bisa digunakan untuk...</td>\n",
       "      <td>alo febriana, terima kasih atas pertanyaannya....</td>\n",
       "    </tr>\n",
       "    <tr>\n",
       "      <th>168115</th>\n",
       "      <td>hallo dokter, saya risky samuel, saya berumur ...</td>\n",
       "      <td>alo risky selamat malam, terimakasih atas pert...</td>\n",
       "    </tr>\n",
       "    <tr>\n",
       "      <th>313612</th>\n",
       "      <td>dok, saya mau tanya, kenapa tiba2 kepala penis...</td>\n",
       "      <td>halo jhosua.\\nterimakasih atas pertanyaan anda...</td>\n",
       "    </tr>\n",
       "    <tr>\n",
       "      <th>313360</th>\n",
       "      <td>halo dok.saya mw tanya .sya ko sering kencing ...</td>\n",
       "      <td>hai novi sagita,\\nterimakasih telah bertanya k...</td>\n",
       "    </tr>\n",
       "  </tbody>\n",
       "</table>\n",
       "</div>"
      ],
      "text/plain": [
       "                                                 Question  \\\n",
       "88325   dokter saya ibu rumah tangga saya punya anak b...   \n",
       "74345   dok apakah acetylcysteine bisa digunakan untuk...   \n",
       "168115  hallo dokter, saya risky samuel, saya berumur ...   \n",
       "313612  dok, saya mau tanya, kenapa tiba2 kepala penis...   \n",
       "313360  halo dok.saya mw tanya .sya ko sering kencing ...   \n",
       "\n",
       "                                                   Answer  \n",
       "88325   alo ibu,\\nterima kasih atas pertanyaannya.\\nbe...  \n",
       "74345   alo febriana, terima kasih atas pertanyaannya....  \n",
       "168115  alo risky selamat malam, terimakasih atas pert...  \n",
       "313612  halo jhosua.\\nterimakasih atas pertanyaan anda...  \n",
       "313360  hai novi sagita,\\nterimakasih telah bertanya k...  "
      ]
     },
     "execution_count": 4,
     "metadata": {},
     "output_type": "execute_result"
    }
   ],
   "source": [
    "\"\"\"\n",
    "Cell generated by Data Wrangler.\n",
    "\"\"\"\n",
    "def clean_data(df):\n",
    "    # Drop rows with missing data in column: 'Question'\n",
    "    df = df.dropna(subset=['Question'])\n",
    "    # Drop rows with missing data in column: ' Answer'\n",
    "    df = df.dropna(subset=[' Answer'])\n",
    "    # Drop duplicate rows in column: 'Question'\n",
    "    df = df.drop_duplicates(subset=['Question'])\n",
    "    # Drop duplicate rows in column: ' Answer'\n",
    "    df = df.drop_duplicates(subset=[' Answer'])\n",
    "    # Convert text to lowercase in columns: 'Question', ' Answer'\n",
    "    df['Question'] = df['Question'].str.lower()\n",
    "    df[' Answer'] = df[' Answer'].str.lower()\n",
    "    return df\n",
    "\n",
    "df_cleaned_missing_values = clean_data(shuffled_light_df.copy())\n",
    "df_cleaned_missing_values.head()"
   ]
  },
  {
   "cell_type": "code",
   "execution_count": 6,
   "metadata": {},
   "outputs": [
    {
     "name": "stderr",
     "output_type": "stream",
     "text": [
      "<>:3: SyntaxWarning: invalid escape sequence '\\S'\n",
      "<>:4: SyntaxWarning: invalid escape sequence '\\s'\n",
      "<>:5: SyntaxWarning: invalid escape sequence '\\s'\n",
      "<>:6: SyntaxWarning: invalid escape sequence '\\s'\n",
      "<>:7: SyntaxWarning: invalid escape sequence '\\s'\n",
      "<>:8: SyntaxWarning: invalid escape sequence '\\s'\n",
      "<>:9: SyntaxWarning: invalid escape sequence '\\s'\n",
      "<>:10: SyntaxWarning: invalid escape sequence '\\s'\n",
      "<>:11: SyntaxWarning: invalid escape sequence '\\s'\n",
      "<>:12: SyntaxWarning: invalid escape sequence '\\s'\n",
      "<>:13: SyntaxWarning: invalid escape sequence '\\s'\n",
      "<>:14: SyntaxWarning: invalid escape sequence '\\s'\n",
      "<>:15: SyntaxWarning: invalid escape sequence '\\s'\n",
      "<>:16: SyntaxWarning: invalid escape sequence '\\s'\n",
      "<>:17: SyntaxWarning: invalid escape sequence '\\s'\n",
      "<>:18: SyntaxWarning: invalid escape sequence '\\s'\n",
      "<>:19: SyntaxWarning: invalid escape sequence '\\s'\n",
      "<>:20: SyntaxWarning: invalid escape sequence '\\s'\n",
      "<>:21: SyntaxWarning: invalid escape sequence '\\s'\n",
      "<>:22: SyntaxWarning: invalid escape sequence '\\s'\n",
      "<>:23: SyntaxWarning: invalid escape sequence '\\s'\n",
      "<>:24: SyntaxWarning: invalid escape sequence '\\s'\n",
      "<>:25: SyntaxWarning: invalid escape sequence '\\s'\n",
      "<>:3: SyntaxWarning: invalid escape sequence '\\S'\n",
      "<>:4: SyntaxWarning: invalid escape sequence '\\s'\n",
      "<>:5: SyntaxWarning: invalid escape sequence '\\s'\n",
      "<>:6: SyntaxWarning: invalid escape sequence '\\s'\n",
      "<>:7: SyntaxWarning: invalid escape sequence '\\s'\n",
      "<>:8: SyntaxWarning: invalid escape sequence '\\s'\n",
      "<>:9: SyntaxWarning: invalid escape sequence '\\s'\n",
      "<>:10: SyntaxWarning: invalid escape sequence '\\s'\n",
      "<>:11: SyntaxWarning: invalid escape sequence '\\s'\n",
      "<>:12: SyntaxWarning: invalid escape sequence '\\s'\n",
      "<>:13: SyntaxWarning: invalid escape sequence '\\s'\n",
      "<>:14: SyntaxWarning: invalid escape sequence '\\s'\n",
      "<>:15: SyntaxWarning: invalid escape sequence '\\s'\n",
      "<>:16: SyntaxWarning: invalid escape sequence '\\s'\n",
      "<>:17: SyntaxWarning: invalid escape sequence '\\s'\n",
      "<>:18: SyntaxWarning: invalid escape sequence '\\s'\n",
      "<>:19: SyntaxWarning: invalid escape sequence '\\s'\n",
      "<>:20: SyntaxWarning: invalid escape sequence '\\s'\n",
      "<>:21: SyntaxWarning: invalid escape sequence '\\s'\n",
      "<>:22: SyntaxWarning: invalid escape sequence '\\s'\n",
      "<>:23: SyntaxWarning: invalid escape sequence '\\s'\n",
      "<>:24: SyntaxWarning: invalid escape sequence '\\s'\n",
      "<>:25: SyntaxWarning: invalid escape sequence '\\s'\n",
      "C:\\Users\\Muhamad Fauqi\\AppData\\Local\\Temp\\ipykernel_15164\\355099491.py:3: SyntaxWarning: invalid escape sequence '\\S'\n",
      "  df[' Answer'] = df[' Answer'].str.replace(\"\\S*\\.com\\S*\", \"\", case=False, regex=True)\n",
      "C:\\Users\\Muhamad Fauqi\\AppData\\Local\\Temp\\ipykernel_15164\\355099491.py:4: SyntaxWarning: invalid escape sequence '\\s'\n",
      "  df[' Answer'] = df[' Answer'].str.replace(\"halo[\\s,][a-z \\s]+[.,\\n]\", \"\", case=False, regex=True)\n",
      "C:\\Users\\Muhamad Fauqi\\AppData\\Local\\Temp\\ipykernel_15164\\355099491.py:5: SyntaxWarning: invalid escape sequence '\\s'\n",
      "  df[' Answer'] = df[' Answer'].str.replace(\"hai[\\s,][a-z \\s]+[.,\\n]\", \"\", case=False, regex=True)\n",
      "C:\\Users\\Muhamad Fauqi\\AppData\\Local\\Temp\\ipykernel_15164\\355099491.py:6: SyntaxWarning: invalid escape sequence '\\s'\n",
      "  df[' Answer'] = df[' Answer'].str.replace(\"alo[\\s,][a-z \\s]+[.,\\n]\", \"\", case=False, regex=True)\n",
      "C:\\Users\\Muhamad Fauqi\\AppData\\Local\\Temp\\ipykernel_15164\\355099491.py:7: SyntaxWarning: invalid escape sequence '\\s'\n",
      "  df[' Answer'] = df[' Answer'].str.replace(\"hallo[\\s,][a-z \\s]+[.,\\n]\", \"\", case=False, regex=True)\n",
      "C:\\Users\\Muhamad Fauqi\\AppData\\Local\\Temp\\ipykernel_15164\\355099491.py:8: SyntaxWarning: invalid escape sequence '\\s'\n",
      "  df[' Answer'] = df[' Answer'].str.replace(\"hei[\\s,][a-z \\s]+[.,\\n]\", \"\", case=False, regex=True)\n",
      "C:\\Users\\Muhamad Fauqi\\AppData\\Local\\Temp\\ipykernel_15164\\355099491.py:9: SyntaxWarning: invalid escape sequence '\\s'\n",
      "  df[' Answer'] = df[' Answer'].str.replace(\"hay[\\s,][a-z \\s]+[.,\\n]\", \"\", case=False, regex=True)\n",
      "C:\\Users\\Muhamad Fauqi\\AppData\\Local\\Temp\\ipykernel_15164\\355099491.py:10: SyntaxWarning: invalid escape sequence '\\s'\n",
      "  df[' Answer'] = df[' Answer'].str.replace(\"terimakasih[\\s,][a-z \\s]+[.,\\n]\", \"\", case=False, regex=True)\n",
      "C:\\Users\\Muhamad Fauqi\\AppData\\Local\\Temp\\ipykernel_15164\\355099491.py:11: SyntaxWarning: invalid escape sequence '\\s'\n",
      "  df[' Answer'] = df[' Answer'].str.replace(\"terima kasih[\\s,][a-z \\s]+[.,\\n]\", \"\", case=False, regex=True)\n",
      "C:\\Users\\Muhamad Fauqi\\AppData\\Local\\Temp\\ipykernel_15164\\355099491.py:12: SyntaxWarning: invalid escape sequence '\\s'\n",
      "  df[' Answer'] = df[' Answer'].str.replace(\"halo[,.\\n\\s]\", \"\", case=False, regex=True)\n",
      "C:\\Users\\Muhamad Fauqi\\AppData\\Local\\Temp\\ipykernel_15164\\355099491.py:13: SyntaxWarning: invalid escape sequence '\\s'\n",
      "  df[' Answer'] = df[' Answer'].str.replace(\"hai[,.\\n\\s]\", \"\", case=False, regex=True)\n",
      "C:\\Users\\Muhamad Fauqi\\AppData\\Local\\Temp\\ipykernel_15164\\355099491.py:14: SyntaxWarning: invalid escape sequence '\\s'\n",
      "  df[' Answer'] = df[' Answer'].str.replace(\"alo[,.\\n\\s]\", \"\", case=False, regex=True)\n",
      "C:\\Users\\Muhamad Fauqi\\AppData\\Local\\Temp\\ipykernel_15164\\355099491.py:15: SyntaxWarning: invalid escape sequence '\\s'\n",
      "  df[' Answer'] = df[' Answer'].str.replace(\"hallo[,.\\n\\s]\", \"\", case=False, regex=True)\n",
      "C:\\Users\\Muhamad Fauqi\\AppData\\Local\\Temp\\ipykernel_15164\\355099491.py:16: SyntaxWarning: invalid escape sequence '\\s'\n",
      "  df[' Answer'] = df[' Answer'].str.replace(\"hei[,.\\n\\s]\", \"\", case=False, regex=True)\n",
      "C:\\Users\\Muhamad Fauqi\\AppData\\Local\\Temp\\ipykernel_15164\\355099491.py:17: SyntaxWarning: invalid escape sequence '\\s'\n",
      "  df[' Answer'] = df[' Answer'].str.replace(\"hay[,.\\n\\s]\", \"\", case=False, regex=True)\n",
      "C:\\Users\\Muhamad Fauqi\\AppData\\Local\\Temp\\ipykernel_15164\\355099491.py:18: SyntaxWarning: invalid escape sequence '\\s'\n",
      "  df[' Answer'] = df[' Answer'].str.replace(\"terima kasih[,.\\n\\s]\", \"\", case=False, regex=True)\n",
      "C:\\Users\\Muhamad Fauqi\\AppData\\Local\\Temp\\ipykernel_15164\\355099491.py:19: SyntaxWarning: invalid escape sequence '\\s'\n",
      "  df[' Answer'] = df[' Answer'].str.replace(\"dear[\\s,][a-z \\s]+[.,\\n]\", \"\", case=False, regex=True)\n",
      "C:\\Users\\Muhamad Fauqi\\AppData\\Local\\Temp\\ipykernel_15164\\355099491.py:20: SyntaxWarning: invalid escape sequence '\\s'\n",
      "  df[' Answer'] = df[' Answer'].str.replace(\"salam[\\s,][a-z \\s]+[.,\\n]\", \"\", case=False, regex=True)\n",
      "C:\\Users\\Muhamad Fauqi\\AppData\\Local\\Temp\\ipykernel_15164\\355099491.py:21: SyntaxWarning: invalid escape sequence '\\s'\n",
      "  df[' Answer'] = df[' Answer'].str.replace(\"asalamualatium[\\s,][a-z \\s]+[.,\\n]\", \"\", case=False, regex=True)\n",
      "C:\\Users\\Muhamad Fauqi\\AppData\\Local\\Temp\\ipykernel_15164\\355099491.py:22: SyntaxWarning: invalid escape sequence '\\s'\n",
      "  df[' Answer'] = df[' Answer'].str.replace(\"waalaikumsalam[\\s,][a-z \\s]+[.,\\n]\", \"\", case=False, regex=True)\n",
      "C:\\Users\\Muhamad Fauqi\\AppData\\Local\\Temp\\ipykernel_15164\\355099491.py:23: SyntaxWarning: invalid escape sequence '\\s'\n",
      "  df[' Answer'] = df[' Answer'].str.replace(\"assalamualaikum[\\s,][a-z \\s]+[.,\\n]\", \"\", case=False, regex=True)\n",
      "C:\\Users\\Muhamad Fauqi\\AppData\\Local\\Temp\\ipykernel_15164\\355099491.py:24: SyntaxWarning: invalid escape sequence '\\s'\n",
      "  df[' Answer'] = df[' Answer'].str.replace(\"sore[\\s,][a-z \\s]+[.,\\n]\", \"\", case=False, regex=True)\n",
      "C:\\Users\\Muhamad Fauqi\\AppData\\Local\\Temp\\ipykernel_15164\\355099491.py:25: SyntaxWarning: invalid escape sequence '\\s'\n",
      "  df[' Answer'] = df[' Answer'].str.replace(\"selamat[\\s,][a-z \\s]+[.,\\n]\", \"\", case=False, regex=True)\n"
     ]
    }
   ],
   "source": [
    "def clean_identity_info(df):\n",
    "    # remove unfaedah\n",
    "    df[' Answer'] = df[' Answer'].str.replace(\"\\S*\\.com\\S*\", \"\", case=False, regex=True)\n",
    "    df[' Answer'] = df[' Answer'].str.replace(\"halo[\\s,][a-z \\s]+[.,\\n]\", \"\", case=False, regex=True)\n",
    "    df[' Answer'] = df[' Answer'].str.replace(\"hai[\\s,][a-z \\s]+[.,\\n]\", \"\", case=False, regex=True)\n",
    "    df[' Answer'] = df[' Answer'].str.replace(\"alo[\\s,][a-z \\s]+[.,\\n]\", \"\", case=False, regex=True)\n",
    "    df[' Answer'] = df[' Answer'].str.replace(\"hallo[\\s,][a-z \\s]+[.,\\n]\", \"\", case=False, regex=True)\n",
    "    df[' Answer'] = df[' Answer'].str.replace(\"hei[\\s,][a-z \\s]+[.,\\n]\", \"\", case=False, regex=True)\n",
    "    df[' Answer'] = df[' Answer'].str.replace(\"hay[\\s,][a-z \\s]+[.,\\n]\", \"\", case=False, regex=True)\n",
    "    df[' Answer'] = df[' Answer'].str.replace(\"terimakasih[\\s,][a-z \\s]+[.,\\n]\", \"\", case=False, regex=True)\n",
    "    df[' Answer'] = df[' Answer'].str.replace(\"terima kasih[\\s,][a-z \\s]+[.,\\n]\", \"\", case=False, regex=True)\n",
    "    df[' Answer'] = df[' Answer'].str.replace(\"halo[,.\\n\\s]\", \"\", case=False, regex=True)\n",
    "    df[' Answer'] = df[' Answer'].str.replace(\"hai[,.\\n\\s]\", \"\", case=False, regex=True)\n",
    "    df[' Answer'] = df[' Answer'].str.replace(\"alo[,.\\n\\s]\", \"\", case=False, regex=True)\n",
    "    df[' Answer'] = df[' Answer'].str.replace(\"hallo[,.\\n\\s]\", \"\", case=False, regex=True)\n",
    "    df[' Answer'] = df[' Answer'].str.replace(\"hei[,.\\n\\s]\", \"\", case=False, regex=True)\n",
    "    df[' Answer'] = df[' Answer'].str.replace(\"hay[,.\\n\\s]\", \"\", case=False, regex=True)\n",
    "    df[' Answer'] = df[' Answer'].str.replace(\"terima kasih[,.\\n\\s]\", \"\", case=False, regex=True)\n",
    "    df[' Answer'] = df[' Answer'].str.replace(\"dear[\\s,][a-z \\s]+[.,\\n]\", \"\", case=False, regex=True)\n",
    "    df[' Answer'] = df[' Answer'].str.replace(\"salam[\\s,][a-z \\s]+[.,\\n]\", \"\", case=False, regex=True)\n",
    "    df[' Answer'] = df[' Answer'].str.replace(\"asalamualatium[\\s,][a-z \\s]+[.,\\n]\", \"\", case=False, regex=True)\n",
    "    df[' Answer'] = df[' Answer'].str.replace(\"waalaikumsalam[\\s,][a-z \\s]+[.,\\n]\", \"\", case=False, regex=True)\n",
    "    df[' Answer'] = df[' Answer'].str.replace(\"assalamualaikum[\\s,][a-z \\s]+[.,\\n]\", \"\", case=False, regex=True)\n",
    "    df[' Answer'] = df[' Answer'].str.replace(\"sore[\\s,][a-z \\s]+[.,\\n]\", \"\", case=False, regex=True)\n",
    "    df[' Answer'] = df[' Answer'].str.replace(\"selamat pagi[\\s,][a-z \\s]+[.,\\n]\", \"\", case=False, regex=True)\n",
    "    df[' Answer'] = df[' Answer'].str.replace(\"terima kasih[,.\\n\\s]\", \"\", case=False, regex=True)\n",
    "    df[' Answer'] = df[' Answer'].str.replace(\"pagi[\\s,][a-z \\s]+[.,\\n]\", \"\", case=False, regex=True)\n",
    "    df[' Answer'] = df[' Answer'].str.replace(\"ass[\\s,][a-z \\s]+[.,\\n]\", \"\", case=False, regex=True)\n",
    "    df[' Answer'] = df[' Answer'].str.replace(\"dok[\\s,][a-z \\s]+[.,\\n]\", \"\", case=False, regex=True)\n",
    "    df[' Answer'] = df[' Answer'].str.replace(\"hi[\\s,][a-z \\s]+[.,\\n]\", \"\", case=False, regex=True)\n",
    "    df[' Answer'] = df[' Answer'].str.replace(\"hy[\\s,][a-z \\s]+[.,\\n]\", \"\", case=False, regex=True)\n",
    "    df[' Answer'] = df[' Answer'].str.replace(\"selamat siang[\\s,][a-z \\s]+[.,\\n]\", \"\", case=False, regex=True)\n",
    "    df[' Answer'] = df[' Answer'].str.replace(\"selamat malam[\\s,][a-z \\s]+[.,\\n]\", \"\", case=False, regex=True)\n",
    "    df[' Answer'] = df[' Answer'].str.replace(\"malam[\\s,][a-z \\s]+[.,\\n]\", \"\", case=False, regex=True)\n",
    "\n",
    "\n",
    "    # cleaning dr name\n",
    "    df[' Answer'] = df[' Answer'].str.replace(\"dr\\\\.[^.,]*\", \"\", case=False, regex=True)\n",
    "    \n",
    "    #shorten dataset\n",
    "    df[' Answer'] = df[' Answer'].apply(lambda x: x[:4500] if len(x) > 4500 else x)\n",
    "    \n",
    "    return df\n",
    "\n",
    "cleaned_data = clean_identity_info(df_cleaned_missing_values.copy())"
   ]
  },
  {
   "cell_type": "markdown",
   "metadata": {},
   "source": [
    "# Export Cleaned Data to CSV"
   ]
  },
  {
   "cell_type": "code",
   "execution_count": 7,
   "metadata": {},
   "outputs": [],
   "source": [
    "## Preprocess dataframe\n",
    "rename_mapping = {'Question': 'instruction', ' Answer': 'output'}\n",
    "cleaned_data = cleaned_data.rename(columns=rename_mapping)\n",
    "cleaned_data['input'] = [''] * len(cleaned_data)"
   ]
  },
  {
   "cell_type": "code",
   "execution_count": 8,
   "metadata": {},
   "outputs": [],
   "source": [
    "import json\n",
    "small_data = clean_identity_info(df_cleaned_missing_values.copy())\n",
    "\n",
    "# Assuming you have a DataFrame named df\n",
    "data_list = small_data.to_dict(orient='records')\n",
    "\n",
    "# Save the list of dictionaries as a JSON file\n",
    "with open('output2.json', 'w') as file:\n",
    "    json.dump(data_list, file, indent=4)"
   ]
  }
 ],
 "metadata": {
  "kernelspec": {
   "display_name": "python_tensorflow",
   "language": "python",
   "name": "python3"
  },
  "language_info": {
   "codemirror_mode": {
    "name": "ipython",
    "version": 3
   },
   "file_extension": ".py",
   "mimetype": "text/x-python",
   "name": "python",
   "nbconvert_exporter": "python",
   "pygments_lexer": "ipython3",
   "version": "3.12.1"
  }
 },
 "nbformat": 4,
 "nbformat_minor": 2
}

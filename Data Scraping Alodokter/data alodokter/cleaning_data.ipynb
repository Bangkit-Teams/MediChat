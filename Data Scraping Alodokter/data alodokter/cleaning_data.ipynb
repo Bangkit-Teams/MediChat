{
 "cells": [
  {
   "cell_type": "markdown",
   "metadata": {},
   "source": [
    "# Download Scrapped Data"
   ]
  },
  {
   "cell_type": "code",
   "execution_count": 1,
   "metadata": {},
   "outputs": [],
   "source": [
    "# Run this if you want to download the dataset\n",
    "# !pip install gdown\n",
    "# import gdown\n",
    "# gdown.download('https://drive.google.com/uc?id=1-9IKXHKjXVStQiJiq1j4ZruDfRnLs0FP', 'combined.csv', quiet=False)"
   ]
  },
  {
   "cell_type": "markdown",
   "metadata": {},
   "source": [
    "# Preprocess the Data"
   ]
  },
  {
   "cell_type": "code",
   "execution_count": 2,
   "metadata": {},
   "outputs": [
    {
     "ename": "NameError",
     "evalue": "name 'pd' is not defined",
     "output_type": "error",
     "traceback": [
      "\u001b[1;31m---------------------------------------------------------------------------\u001b[0m",
      "\u001b[1;31mNameError\u001b[0m                                 Traceback (most recent call last)",
      "Cell \u001b[1;32mIn[2], line 1\u001b[0m\n\u001b[1;32m----> 1\u001b[0m df \u001b[38;5;241m=\u001b[39m \u001b[43mpd\u001b[49m\u001b[38;5;241m.\u001b[39mread_csv(\u001b[38;5;124m'\u001b[39m\u001b[38;5;124mcombined.csv\u001b[39m\u001b[38;5;124m'\u001b[39m)\n\u001b[0;32m      2\u001b[0m shuffled_light_df \u001b[38;5;241m=\u001b[39m df\u001b[38;5;241m.\u001b[39msample(frac\u001b[38;5;241m=\u001b[39m\u001b[38;5;241m1\u001b[39m)\u001b[38;5;241m.\u001b[39mhead(\u001b[38;5;241m70000\u001b[39m)\n",
      "\u001b[1;31mNameError\u001b[0m: name 'pd' is not defined"
     ]
    }
   ],
   "source": [
    "import pandas as pd\n",
    "\n",
    "df = pd.read_csv('combined.csv')\n",
    "shuffled_light_df = df.sample(frac=1).head(70000)"
   ]
  },
  {
   "cell_type": "code",
   "execution_count": null,
   "metadata": {},
   "outputs": [
    {
     "data": {
      "text/html": [
       "<div>\n",
       "<style scoped>\n",
       "    .dataframe tbody tr th:only-of-type {\n",
       "        vertical-align: middle;\n",
       "    }\n",
       "\n",
       "    .dataframe tbody tr th {\n",
       "        vertical-align: top;\n",
       "    }\n",
       "\n",
       "    .dataframe thead th {\n",
       "        text-align: right;\n",
       "    }\n",
       "</style>\n",
       "<table border=\"1\" class=\"dataframe\">\n",
       "  <thead>\n",
       "    <tr style=\"text-align: right;\">\n",
       "      <th></th>\n",
       "      <th>Question</th>\n",
       "      <th>Answer</th>\n",
       "    </tr>\n",
       "  </thead>\n",
       "  <tbody>\n",
       "    <tr>\n",
       "      <th>213012</th>\n",
       "      <td>malam dok, saya naufal mau tanya, kok lambung ...</td>\n",
       "      <td>Hai terima kasih atas pertanyaannya\\nPenyakit ...</td>\n",
       "    </tr>\n",
       "    <tr>\n",
       "      <th>91934</th>\n",
       "      <td>Halo, dok. Saya mau tanya, bagian bawah mata k...</td>\n",
       "      <td>Alo Dewi,\\nTerima kasih atas pertanyaannya.\\nN...</td>\n",
       "    </tr>\n",
       "    <tr>\n",
       "      <th>54702</th>\n",
       "      <td>Mlm dokter apakah hiperpigmentasi bisa hilang,...</td>\n",
       "      <td>Alo Yohan,\\nHiperpigmentasi kulit adalah kondi...</td>\n",
       "    </tr>\n",
       "    <tr>\n",
       "      <th>264481</th>\n",
       "      <td>halo dok saya ingin bertanya, kemarin saya bar...</td>\n",
       "      <td>Hai,\\nKeluhan-keluhan yang dialami tersebut da...</td>\n",
       "    </tr>\n",
       "    <tr>\n",
       "      <th>57610</th>\n",
       "      <td>Dok, bagaimana jika seseorang koma selama bert...</td>\n",
       "      <td>Alo, terimakasih atas pertanyaannya.\\nKoma ada...</td>\n",
       "    </tr>\n",
       "  </tbody>\n",
       "</table>\n",
       "</div>"
      ],
      "text/plain": [
       "                                                 Question  \\\n",
       "213012  malam dok, saya naufal mau tanya, kok lambung ...   \n",
       "91934   Halo, dok. Saya mau tanya, bagian bawah mata k...   \n",
       "54702   Mlm dokter apakah hiperpigmentasi bisa hilang,...   \n",
       "264481  halo dok saya ingin bertanya, kemarin saya bar...   \n",
       "57610   Dok, bagaimana jika seseorang koma selama bert...   \n",
       "\n",
       "                                                   Answer  \n",
       "213012  Hai terima kasih atas pertanyaannya\\nPenyakit ...  \n",
       "91934   Alo Dewi,\\nTerima kasih atas pertanyaannya.\\nN...  \n",
       "54702   Alo Yohan,\\nHiperpigmentasi kulit adalah kondi...  \n",
       "264481  Hai,\\nKeluhan-keluhan yang dialami tersebut da...  \n",
       "57610   Alo, terimakasih atas pertanyaannya.\\nKoma ada...  "
      ]
     },
     "execution_count": 11,
     "metadata": {},
     "output_type": "execute_result"
    }
   ],
   "source": [
    "shuffled_light_df.head()"
   ]
  },
  {
   "cell_type": "code",
   "execution_count": null,
   "metadata": {},
   "outputs": [
    {
     "data": {
      "text/html": [
       "<div>\n",
       "<style scoped>\n",
       "    .dataframe tbody tr th:only-of-type {\n",
       "        vertical-align: middle;\n",
       "    }\n",
       "\n",
       "    .dataframe tbody tr th {\n",
       "        vertical-align: top;\n",
       "    }\n",
       "\n",
       "    .dataframe thead th {\n",
       "        text-align: right;\n",
       "    }\n",
       "</style>\n",
       "<table border=\"1\" class=\"dataframe\">\n",
       "  <thead>\n",
       "    <tr style=\"text-align: right;\">\n",
       "      <th></th>\n",
       "      <th>Question</th>\n",
       "      <th>Answer</th>\n",
       "    </tr>\n",
       "  </thead>\n",
       "  <tbody>\n",
       "    <tr>\n",
       "      <th>213012</th>\n",
       "      <td>malam dok, saya naufal mau tanya, kok lambung ...</td>\n",
       "      <td>hai terima kasih atas pertanyaannya\\npenyakit ...</td>\n",
       "    </tr>\n",
       "    <tr>\n",
       "      <th>91934</th>\n",
       "      <td>halo, dok. saya mau tanya, bagian bawah mata k...</td>\n",
       "      <td>alo dewi,\\nterima kasih atas pertanyaannya.\\nn...</td>\n",
       "    </tr>\n",
       "    <tr>\n",
       "      <th>54702</th>\n",
       "      <td>mlm dokter apakah hiperpigmentasi bisa hilang,...</td>\n",
       "      <td>alo yohan,\\nhiperpigmentasi kulit adalah kondi...</td>\n",
       "    </tr>\n",
       "    <tr>\n",
       "      <th>264481</th>\n",
       "      <td>halo dok saya ingin bertanya, kemarin saya bar...</td>\n",
       "      <td>hai,\\nkeluhan-keluhan yang dialami tersebut da...</td>\n",
       "    </tr>\n",
       "    <tr>\n",
       "      <th>57610</th>\n",
       "      <td>dok, bagaimana jika seseorang koma selama bert...</td>\n",
       "      <td>alo, terimakasih atas pertanyaannya.\\nkoma ada...</td>\n",
       "    </tr>\n",
       "  </tbody>\n",
       "</table>\n",
       "</div>"
      ],
      "text/plain": [
       "                                                 Question  \\\n",
       "213012  malam dok, saya naufal mau tanya, kok lambung ...   \n",
       "91934   halo, dok. saya mau tanya, bagian bawah mata k...   \n",
       "54702   mlm dokter apakah hiperpigmentasi bisa hilang,...   \n",
       "264481  halo dok saya ingin bertanya, kemarin saya bar...   \n",
       "57610   dok, bagaimana jika seseorang koma selama bert...   \n",
       "\n",
       "                                                   Answer  \n",
       "213012  hai terima kasih atas pertanyaannya\\npenyakit ...  \n",
       "91934   alo dewi,\\nterima kasih atas pertanyaannya.\\nn...  \n",
       "54702   alo yohan,\\nhiperpigmentasi kulit adalah kondi...  \n",
       "264481  hai,\\nkeluhan-keluhan yang dialami tersebut da...  \n",
       "57610   alo, terimakasih atas pertanyaannya.\\nkoma ada...  "
      ]
     },
     "execution_count": 12,
     "metadata": {},
     "output_type": "execute_result"
    }
   ],
   "source": [
    "\"\"\"\n",
    "Cell generated by Data Wrangler.\n",
    "\"\"\"\n",
    "def clean_data(df):\n",
    "    # Drop rows with missing data in column: 'Question'\n",
    "    df = df.dropna(subset=['Question'])\n",
    "    # Drop rows with missing data in column: ' Answer'\n",
    "    df = df.dropna(subset=[' Answer'])\n",
    "    # Drop duplicate rows in column: 'Question'\n",
    "    df = df.drop_duplicates(subset=['Question'])\n",
    "    # Drop duplicate rows in column: ' Answer'\n",
    "    df = df.drop_duplicates(subset=[' Answer'])\n",
    "    # Convert text to lowercase in columns: 'Question', ' Answer'\n",
    "    df['Question'] = df['Question'].str.lower()\n",
    "    df[' Answer'] = df[' Answer'].str.lower()\n",
    "    return df\n",
    "\n",
    "df_cleaned_missing_values = clean_data(shuffled_light_df.copy())\n",
    "df_cleaned_missing_values.head()"
   ]
  },
  {
   "cell_type": "code",
   "execution_count": null,
   "metadata": {},
   "outputs": [],
   "source": [
    "def clean_identity_info(df):\n",
    "    df_cleaned_missing_values[' Answer'] = df_cleaned_missing_values[' Answer'].str.replace(\"\\S*\\.com\\S*\", \"\", case=False, regex=True)\n",
    "    df_cleaned_missing_values[' Answer'] = df_cleaned_missing_values[' Answer'].str.replace(\"halo[\\s,][a-z \\s]+[.,\\n]\", \"\", case=False, regex=True)\n",
    "    df_cleaned_missing_values[' Answer'] = df_cleaned_missing_values[' Answer'].str.replace(\"hai[\\s,][a-z \\s]+[.,\\n]\", \"\", case=False, regex=True)\n",
    "    df_cleaned_missing_values[' Answer'] = df_cleaned_missing_values[' Answer'].str.replace(\"alo[\\s,][a-z \\s]+[.,\\n]\", \"\", case=False, regex=True)\n",
    "    df_cleaned_missing_values[' Answer'] = df_cleaned_missing_values[' Answer'].str.replace(\"hallo[\\s,][a-z \\s]+[.,\\n]\", \"\", case=False, regex=True)\n",
    "    df_cleaned_missing_values[' Answer'] = df_cleaned_missing_values[' Answer'].str.replace(\"hei[\\s,][a-z \\s]+[.,\\n]\", \"\", case=False, regex=True)\n",
    "    df_cleaned_missing_values[' Answer'] = df_cleaned_missing_values[' Answer'].str.replace(\"hay[\\s,][a-z \\s]+[.,\\n]\", \"\", case=False, regex=True)\n",
    "    df_cleaned_missing_values[' Answer'] = df_cleaned_missing_values[' Answer'].str.replace(\"terimakasih[\\s,][a-z \\s]+[.,\\n]\", \"\", case=False, regex=True)\n",
    "    df_cleaned_missing_values[' Answer'] = df_cleaned_missing_values[' Answer'].str.replace(\"terima kasih[\\s,][a-z \\s]+[.,\\n]\", \"\", case=False, regex=True)\n",
    "    df_cleaned_missing_values[' Answer'] = df_cleaned_missing_values[' Answer'].str.replace(\"halo[,.\\n\\s]\", \"\", case=False, regex=True)\n",
    "    df_cleaned_missing_values[' Answer'] = df_cleaned_missing_values[' Answer'].str.replace(\"hai[,.\\n\\s]\", \"\", case=False, regex=True)\n",
    "    df_cleaned_missing_values[' Answer'] = df_cleaned_missing_values[' Answer'].str.replace(\"alo[,.\\n\\s]\", \"\", case=False, regex=True)\n",
    "    df_cleaned_missing_values[' Answer'] = df_cleaned_missing_values[' Answer'].str.replace(\"hallo[,.\\n\\s]\", \"\", case=False, regex=True)\n",
    "    df_cleaned_missing_values[' Answer'] = df_cleaned_missing_values[' Answer'].str.replace(\"hei[,.\\n\\s]\", \"\", case=False, regex=True)\n",
    "    df_cleaned_missing_values[' Answer'] = df_cleaned_missing_values[' Answer'].str.replace(\"hay[,.\\n\\s]\", \"\", case=False, regex=True)\n",
    "    df_cleaned_missing_values[' Answer'] = df_cleaned_missing_values[' Answer'].str.replace(\"terimakasih[,.\\n\\s]\", \"\", case=False, regex=True)\n",
    "    df_cleaned_missing_values[' Answer'] = df_cleaned_missing_values[' Answer'].str.replace(\"terima kasih[,.\\n\\s]\", \"\", case=False, regex=True)\n",
    "    # cleaning dr name\n",
    "    df_cleaned_missing_values[' Answer'] = df_cleaned_missing_values[' Answer'].str.replace(\"dr\\\\.[^.,]*\", \"\", case=False, regex=True)"
   ]
  },
  {
   "cell_type": "markdown",
   "metadata": {},
   "source": [
    "# Export Cleaned Data to CSV"
   ]
  },
  {
   "cell_type": "code",
   "execution_count": null,
   "metadata": {},
   "outputs": [],
   "source": [
    "\n",
    "# Assuming you have a DataFrame named df\n",
    "df.to_csv('output.csv', index=False)"
   ]
  }
 ],
 "metadata": {
  "kernelspec": {
   "display_name": "python_tensorflow",
   "language": "python",
   "name": "python3"
  },
  "language_info": {
   "codemirror_mode": {
    "name": "ipython",
    "version": 3
   },
   "file_extension": ".py",
   "mimetype": "text/x-python",
   "name": "python",
   "nbconvert_exporter": "python",
   "pygments_lexer": "ipython3",
   "version": "3.12.3"
  }
 },
 "nbformat": 4,
 "nbformat_minor": 2
}

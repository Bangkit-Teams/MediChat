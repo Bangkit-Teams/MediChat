{
 "cells": [
  {
   "cell_type": "markdown",
   "metadata": {},
   "source": [
    "# Download Scrapped Data"
   ]
  },
  {
   "cell_type": "code",
   "execution_count": 3,
   "metadata": {},
   "outputs": [],
   "source": [
    "# # Run this if you want to download the dataset\n",
    "# !pip install gdown\n",
    "# import gdown\n",
    "# gdown.download('https://drive.google.com/uc?id=1-9IKXHKjXVStQiJiq1j4ZruDfRnLs0FP', 'combined.csv', quiet=False)"
   ]
  },
  {
   "cell_type": "markdown",
   "metadata": {},
   "source": [
    "# Preprocess the Data"
   ]
  },
  {
   "cell_type": "code",
   "execution_count": 17,
   "metadata": {},
   "outputs": [],
   "source": [
    "import pandas as pd\n",
    "\n",
    "df = pd.read_csv('combined.csv')\n",
    "shuffled_light_df = df.sample(50000)"
   ]
  },
  {
   "cell_type": "code",
   "execution_count": 18,
   "metadata": {},
   "outputs": [
    {
     "data": {
      "text/html": [
       "<div>\n",
       "<style scoped>\n",
       "    .dataframe tbody tr th:only-of-type {\n",
       "        vertical-align: middle;\n",
       "    }\n",
       "\n",
       "    .dataframe tbody tr th {\n",
       "        vertical-align: top;\n",
       "    }\n",
       "\n",
       "    .dataframe thead th {\n",
       "        text-align: right;\n",
       "    }\n",
       "</style>\n",
       "<table border=\"1\" class=\"dataframe\">\n",
       "  <thead>\n",
       "    <tr style=\"text-align: right;\">\n",
       "      <th></th>\n",
       "      <th>Question</th>\n",
       "      <th>Answer</th>\n",
       "    </tr>\n",
       "  </thead>\n",
       "  <tbody>\n",
       "    <tr>\n",
       "      <th>269479</th>\n",
       "      <td>Dok saya mau tanya, kenapa vagina saya terasa ...</td>\n",
       "      <td>Hai\\nTerima kasih atas pertanyaannya pada Alod...</td>\n",
       "    </tr>\n",
       "    <tr>\n",
       "      <th>241690</th>\n",
       "      <td>Malam dok, suami saya berumur 27tahun TB 170, ...</td>\n",
       "      <td>Halo rina06.\\nTerimakasih atas pertanyaan Anda...</td>\n",
       "    </tr>\n",
       "    <tr>\n",
       "      <th>149386</th>\n",
       "      <td>Dok, usia kehamilan saya 36 minggu, keluar ber...</td>\n",
       "      <td>Alo Tikarpila, terima kasih ya sudah bertanay ...</td>\n",
       "    </tr>\n",
       "    <tr>\n",
       "      <th>191594</th>\n",
       "      <td>malam dok, \\nsaya perempuan 28 tahun dan belum...</td>\n",
       "      <td>Hai sylvie,\\nTerimakasih telah bertanya ke Alo...</td>\n",
       "    </tr>\n",
       "    <tr>\n",
       "      <th>258461</th>\n",
       "      <td>Salam sejahtera, Dok. Dok, saya mohon info, pa...</td>\n",
       "      <td>Hai,\\nTelinga berdenging disebut juga dengan i...</td>\n",
       "    </tr>\n",
       "  </tbody>\n",
       "</table>\n",
       "</div>"
      ],
      "text/plain": [
       "                                                 Question  \\\n",
       "269479  Dok saya mau tanya, kenapa vagina saya terasa ...   \n",
       "241690  Malam dok, suami saya berumur 27tahun TB 170, ...   \n",
       "149386  Dok, usia kehamilan saya 36 minggu, keluar ber...   \n",
       "191594  malam dok, \\nsaya perempuan 28 tahun dan belum...   \n",
       "258461  Salam sejahtera, Dok. Dok, saya mohon info, pa...   \n",
       "\n",
       "                                                   Answer  \n",
       "269479  Hai\\nTerima kasih atas pertanyaannya pada Alod...  \n",
       "241690  Halo rina06.\\nTerimakasih atas pertanyaan Anda...  \n",
       "149386  Alo Tikarpila, terima kasih ya sudah bertanay ...  \n",
       "191594  Hai sylvie,\\nTerimakasih telah bertanya ke Alo...  \n",
       "258461  Hai,\\nTelinga berdenging disebut juga dengan i...  "
      ]
     },
     "execution_count": 18,
     "metadata": {},
     "output_type": "execute_result"
    }
   ],
   "source": [
    "shuffled_light_df.head()"
   ]
  },
  {
   "cell_type": "code",
   "execution_count": 19,
   "metadata": {},
   "outputs": [
    {
     "data": {
      "text/html": [
       "<div>\n",
       "<style scoped>\n",
       "    .dataframe tbody tr th:only-of-type {\n",
       "        vertical-align: middle;\n",
       "    }\n",
       "\n",
       "    .dataframe tbody tr th {\n",
       "        vertical-align: top;\n",
       "    }\n",
       "\n",
       "    .dataframe thead th {\n",
       "        text-align: right;\n",
       "    }\n",
       "</style>\n",
       "<table border=\"1\" class=\"dataframe\">\n",
       "  <thead>\n",
       "    <tr style=\"text-align: right;\">\n",
       "      <th></th>\n",
       "      <th>Question</th>\n",
       "      <th>Answer</th>\n",
       "    </tr>\n",
       "  </thead>\n",
       "  <tbody>\n",
       "    <tr>\n",
       "      <th>269479</th>\n",
       "      <td>dok saya mau tanya, kenapa vagina saya terasa ...</td>\n",
       "      <td>hai\\nterima kasih atas pertanyaannya pada alod...</td>\n",
       "    </tr>\n",
       "    <tr>\n",
       "      <th>241690</th>\n",
       "      <td>malam dok, suami saya berumur 27tahun tb 170, ...</td>\n",
       "      <td>halo rina06.\\nterimakasih atas pertanyaan anda...</td>\n",
       "    </tr>\n",
       "    <tr>\n",
       "      <th>149386</th>\n",
       "      <td>dok, usia kehamilan saya 36 minggu, keluar ber...</td>\n",
       "      <td>alo tikarpila, terima kasih ya sudah bertanay ...</td>\n",
       "    </tr>\n",
       "    <tr>\n",
       "      <th>191594</th>\n",
       "      <td>malam dok, \\nsaya perempuan 28 tahun dan belum...</td>\n",
       "      <td>hai sylvie,\\nterimakasih telah bertanya ke alo...</td>\n",
       "    </tr>\n",
       "    <tr>\n",
       "      <th>258461</th>\n",
       "      <td>salam sejahtera, dok. dok, saya mohon info, pa...</td>\n",
       "      <td>hai,\\ntelinga berdenging disebut juga dengan i...</td>\n",
       "    </tr>\n",
       "  </tbody>\n",
       "</table>\n",
       "</div>"
      ],
      "text/plain": [
       "                                                 Question  \\\n",
       "269479  dok saya mau tanya, kenapa vagina saya terasa ...   \n",
       "241690  malam dok, suami saya berumur 27tahun tb 170, ...   \n",
       "149386  dok, usia kehamilan saya 36 minggu, keluar ber...   \n",
       "191594  malam dok, \\nsaya perempuan 28 tahun dan belum...   \n",
       "258461  salam sejahtera, dok. dok, saya mohon info, pa...   \n",
       "\n",
       "                                                   Answer  \n",
       "269479  hai\\nterima kasih atas pertanyaannya pada alod...  \n",
       "241690  halo rina06.\\nterimakasih atas pertanyaan anda...  \n",
       "149386  alo tikarpila, terima kasih ya sudah bertanay ...  \n",
       "191594  hai sylvie,\\nterimakasih telah bertanya ke alo...  \n",
       "258461  hai,\\ntelinga berdenging disebut juga dengan i...  "
      ]
     },
     "execution_count": 19,
     "metadata": {},
     "output_type": "execute_result"
    }
   ],
   "source": [
    "\"\"\"\n",
    "Cell generated by Data Wrangler.\n",
    "\"\"\"\n",
    "def clean_data(df):\n",
    "    # Drop rows with missing data in column: 'Question'\n",
    "    df = df.dropna(subset=['Question'])\n",
    "    # Drop rows with missing data in column: ' Answer'\n",
    "    df = df.dropna(subset=[' Answer'])\n",
    "    # Drop duplicate rows in column: 'Question'\n",
    "    df = df.drop_duplicates(subset=['Question'])\n",
    "    # Drop duplicate rows in column: ' Answer'\n",
    "    df = df.drop_duplicates(subset=[' Answer'])\n",
    "    # Convert text to lowercase in columns: 'Question', ' Answer'\n",
    "    df['Question'] = df['Question'].str.lower()\n",
    "    df[' Answer'] = df[' Answer'].str.lower()\n",
    "    return df\n",
    "\n",
    "df_cleaned_missing_values = clean_data(shuffled_light_df.copy())\n",
    "df_cleaned_missing_values.head()"
   ]
  },
  {
   "cell_type": "code",
   "execution_count": 29,
   "metadata": {},
   "outputs": [
    {
     "name": "stderr",
     "output_type": "stream",
     "text": [
      "<>:3: SyntaxWarning: invalid escape sequence '\\S'\n",
      "<>:4: SyntaxWarning: invalid escape sequence '\\s'\n",
      "<>:5: SyntaxWarning: invalid escape sequence '\\s'\n",
      "<>:6: SyntaxWarning: invalid escape sequence '\\s'\n",
      "<>:7: SyntaxWarning: invalid escape sequence '\\s'\n",
      "<>:8: SyntaxWarning: invalid escape sequence '\\s'\n",
      "<>:9: SyntaxWarning: invalid escape sequence '\\s'\n",
      "<>:10: SyntaxWarning: invalid escape sequence '\\s'\n",
      "<>:11: SyntaxWarning: invalid escape sequence '\\s'\n",
      "<>:12: SyntaxWarning: invalid escape sequence '\\s'\n",
      "<>:13: SyntaxWarning: invalid escape sequence '\\s'\n",
      "<>:14: SyntaxWarning: invalid escape sequence '\\s'\n",
      "<>:15: SyntaxWarning: invalid escape sequence '\\s'\n",
      "<>:16: SyntaxWarning: invalid escape sequence '\\s'\n",
      "<>:17: SyntaxWarning: invalid escape sequence '\\s'\n",
      "<>:18: SyntaxWarning: invalid escape sequence '\\s'\n",
      "<>:19: SyntaxWarning: invalid escape sequence '\\s'\n",
      "<>:3: SyntaxWarning: invalid escape sequence '\\S'\n",
      "<>:4: SyntaxWarning: invalid escape sequence '\\s'\n",
      "<>:5: SyntaxWarning: invalid escape sequence '\\s'\n",
      "<>:6: SyntaxWarning: invalid escape sequence '\\s'\n",
      "<>:7: SyntaxWarning: invalid escape sequence '\\s'\n",
      "<>:8: SyntaxWarning: invalid escape sequence '\\s'\n",
      "<>:9: SyntaxWarning: invalid escape sequence '\\s'\n",
      "<>:10: SyntaxWarning: invalid escape sequence '\\s'\n",
      "<>:11: SyntaxWarning: invalid escape sequence '\\s'\n",
      "<>:12: SyntaxWarning: invalid escape sequence '\\s'\n",
      "<>:13: SyntaxWarning: invalid escape sequence '\\s'\n",
      "<>:14: SyntaxWarning: invalid escape sequence '\\s'\n",
      "<>:15: SyntaxWarning: invalid escape sequence '\\s'\n",
      "<>:16: SyntaxWarning: invalid escape sequence '\\s'\n",
      "<>:17: SyntaxWarning: invalid escape sequence '\\s'\n",
      "<>:18: SyntaxWarning: invalid escape sequence '\\s'\n",
      "<>:19: SyntaxWarning: invalid escape sequence '\\s'\n",
      "C:\\Users\\ryori\\AppData\\Local\\Temp\\ipykernel_26308\\769736083.py:3: SyntaxWarning: invalid escape sequence '\\S'\n",
      "  df['output'] = df['output'].str.replace(\"\\S*\\.com\\S*\", \"\", case=False, regex=True)\n",
      "C:\\Users\\ryori\\AppData\\Local\\Temp\\ipykernel_26308\\769736083.py:4: SyntaxWarning: invalid escape sequence '\\s'\n",
      "  df['output'] = df['output'].str.replace(\"halo[\\s,][a-z \\s]+[.,\\n]\", \"\", case=False, regex=True)\n",
      "C:\\Users\\ryori\\AppData\\Local\\Temp\\ipykernel_26308\\769736083.py:5: SyntaxWarning: invalid escape sequence '\\s'\n",
      "  df['output'] = df['output'].str.replace(\"hai[\\s,][a-z \\s]+[.,\\n]\", \"\", case=False, regex=True)\n",
      "C:\\Users\\ryori\\AppData\\Local\\Temp\\ipykernel_26308\\769736083.py:6: SyntaxWarning: invalid escape sequence '\\s'\n",
      "  df['output'] = df['output'].str.replace(\"alo[\\s,][a-z \\s]+[.,\\n]\", \"\", case=False, regex=True)\n",
      "C:\\Users\\ryori\\AppData\\Local\\Temp\\ipykernel_26308\\769736083.py:7: SyntaxWarning: invalid escape sequence '\\s'\n",
      "  df['output'] = df['output'].str.replace(\"hallo[\\s,][a-z \\s]+[.,\\n]\", \"\", case=False, regex=True)\n",
      "C:\\Users\\ryori\\AppData\\Local\\Temp\\ipykernel_26308\\769736083.py:8: SyntaxWarning: invalid escape sequence '\\s'\n",
      "  df['output'] = df['output'].str.replace(\"hei[\\s,][a-z \\s]+[.,\\n]\", \"\", case=False, regex=True)\n",
      "C:\\Users\\ryori\\AppData\\Local\\Temp\\ipykernel_26308\\769736083.py:9: SyntaxWarning: invalid escape sequence '\\s'\n",
      "  df['output'] = df['output'].str.replace(\"hay[\\s,][a-z \\s]+[.,\\n]\", \"\", case=False, regex=True)\n",
      "C:\\Users\\ryori\\AppData\\Local\\Temp\\ipykernel_26308\\769736083.py:10: SyntaxWarning: invalid escape sequence '\\s'\n",
      "  df['output'] = df['output'].str.replace(\"terimakasih[\\s,][a-z \\s]+[.,\\n]\", \"\", case=False, regex=True)\n",
      "C:\\Users\\ryori\\AppData\\Local\\Temp\\ipykernel_26308\\769736083.py:11: SyntaxWarning: invalid escape sequence '\\s'\n",
      "  df['output'] = df['output'].str.replace(\"terima kasih[\\s,][a-z \\s]+[.,\\n]\", \"\", case=False, regex=True)\n",
      "C:\\Users\\ryori\\AppData\\Local\\Temp\\ipykernel_26308\\769736083.py:12: SyntaxWarning: invalid escape sequence '\\s'\n",
      "  df['output'] = df['output'].str.replace(\"halo[,.\\n\\s]\", \"\", case=False, regex=True)\n",
      "C:\\Users\\ryori\\AppData\\Local\\Temp\\ipykernel_26308\\769736083.py:13: SyntaxWarning: invalid escape sequence '\\s'\n",
      "  df['output'] = df['output'].str.replace(\"hai[,.\\n\\s]\", \"\", case=False, regex=True)\n",
      "C:\\Users\\ryori\\AppData\\Local\\Temp\\ipykernel_26308\\769736083.py:14: SyntaxWarning: invalid escape sequence '\\s'\n",
      "  df['output'] = df['output'].str.replace(\"alo[,.\\n\\s]\", \"\", case=False, regex=True)\n",
      "C:\\Users\\ryori\\AppData\\Local\\Temp\\ipykernel_26308\\769736083.py:15: SyntaxWarning: invalid escape sequence '\\s'\n",
      "  df['output'] = df['output'].str.replace(\"hallo[,.\\n\\s]\", \"\", case=False, regex=True)\n",
      "C:\\Users\\ryori\\AppData\\Local\\Temp\\ipykernel_26308\\769736083.py:16: SyntaxWarning: invalid escape sequence '\\s'\n",
      "  df['output'] = df['output'].str.replace(\"hei[,.\\n\\s]\", \"\", case=False, regex=True)\n",
      "C:\\Users\\ryori\\AppData\\Local\\Temp\\ipykernel_26308\\769736083.py:17: SyntaxWarning: invalid escape sequence '\\s'\n",
      "  df['output'] = df['output'].str.replace(\"hay[,.\\n\\s]\", \"\", case=False, regex=True)\n",
      "C:\\Users\\ryori\\AppData\\Local\\Temp\\ipykernel_26308\\769736083.py:18: SyntaxWarning: invalid escape sequence '\\s'\n",
      "  df['output'] = df['output'].str.replace(\"terimakasih[,.\\n\\s]\", \"\", case=False, regex=True)\n",
      "C:\\Users\\ryori\\AppData\\Local\\Temp\\ipykernel_26308\\769736083.py:19: SyntaxWarning: invalid escape sequence '\\s'\n",
      "  df['output'] = df['output'].str.replace(\"terima kasih[,.\\n\\s]\", \"\", case=False, regex=True)\n"
     ]
    }
   ],
   "source": [
    "def clean_identity_info(df):\n",
    "    # remove unfaedah\n",
    "    df[' Answer'] = df[' Answer'].str.replace(\"\\S*\\.com\\S*\", \"\", case=False, regex=True)\n",
    "    df[' Answer'] = df[' Answer'].str.replace(\"halo[\\s,][a-z \\s]+[.,\\n]\", \"\", case=False, regex=True)\n",
    "    df[' Answer'] = df[' Answer'].str.replace(\"hai[\\s,][a-z \\s]+[.,\\n]\", \"\", case=False, regex=True)\n",
    "    df[' Answer'] = df[' Answer'].str.replace(\"alo[\\s,][a-z \\s]+[.,\\n]\", \"\", case=False, regex=True)\n",
    "    df[' Answer'] = df[' Answer'].str.replace(\"hallo[\\s,][a-z \\s]+[.,\\n]\", \"\", case=False, regex=True)\n",
    "    df[' Answer'] = df[' Answer'].str.replace(\"hei[\\s,][a-z \\s]+[.,\\n]\", \"\", case=False, regex=True)\n",
    "    df[' Answer'] = df[' Answer'].str.replace(\"hay[\\s,][a-z \\s]+[.,\\n]\", \"\", case=False, regex=True)\n",
    "    df[' Answer'] = df[' Answer'].str.replace(\"terimakasih[\\s,][a-z \\s]+[.,\\n]\", \"\", case=False, regex=True)\n",
    "    df[' Answer'] = df[' Answer'].str.replace(\"terima kasih[\\s,][a-z \\s]+[.,\\n]\", \"\", case=False, regex=True)\n",
    "    df[' Answer'] = df[' Answer'].str.replace(\"halo[,.\\n\\s]\", \"\", case=False, regex=True)\n",
    "    df[' Answer'] = df[' Answer'].str.replace(\"hai[,.\\n\\s]\", \"\", case=False, regex=True)\n",
    "    df[' Answer'] = df[' Answer'].str.replace(\"alo[,.\\n\\s]\", \"\", case=False, regex=True)\n",
    "    df[' Answer'] = df[' Answer'].str.replace(\"hallo[,.\\n\\s]\", \"\", case=False, regex=True)\n",
    "    df[' Answer'] = df[' Answer'].str.replace(\"hei[,.\\n\\s]\", \"\", case=False, regex=True)\n",
    "    df[' Answer'] = df[' Answer'].str.replace(\"hay[,.\\n\\s]\", \"\", case=False, regex=True)\n",
    "    df[' Answer'] = df[' Answer'].str.replace(\"terimakasih[,.\\n\\s]\", \"\", case=False, regex=True)\n",
    "    df[' Answer'] = df[' Answer'].str.replace(\"terima kasih[,.\\n\\s]\", \"\", case=False, regex=True)\n",
    "    # cleaning dr name\n",
    "    df[' Answer'] = df[' Answer'].str.replace(\"dr\\\\.[^.,]*\", \"\", case=False, regex=True)\n",
    "    \n",
    "    #shorten dataset\n",
    "    df[' Answer'] = df[' Answer'].apply(lambda x: x[:4500] if len(x) > 4500 else x)\n",
    "    \n",
    "    return df\n",
    "\n",
    "cleaned_data = clean_identity_info(df_cleaned_missing_values.copy())"
   ]
  },
  {
   "cell_type": "markdown",
   "metadata": {},
   "source": [
    "# Export Cleaned Data to CSV"
   ]
  },
  {
   "cell_type": "code",
   "execution_count": 26,
   "metadata": {},
   "outputs": [],
   "source": [
    "## Preprocess dataframe\n",
    "rename_mapping = {'Question': 'instruction', ' Answer': 'output'}\n",
    "cleaned_data = cleaned_data.rename(columns=rename_mapping)\n",
    "cleaned_data['input'] = [''] * len(cleaned_data)"
   ]
  },
  {
   "cell_type": "code",
   "execution_count": 30,
   "metadata": {},
   "outputs": [],
   "source": [
    "import json\n",
    "small_data = clean_identity_info(df_cleaned_missing_values.copy())\n",
    "\n",
    "# Assuming you have a DataFrame named df\n",
    "data_list = small_data.to_dict(orient='records')\n",
    "\n",
    "# Save the list of dictionaries as a JSON file\n",
    "with open('output2.json', 'w') as file:\n",
    "    json.dump(data_list, file, indent=4)"
   ]
  }
 ],
 "metadata": {
  "kernelspec": {
   "display_name": "python_tensorflow",
   "language": "python",
   "name": "python3"
  },
  "language_info": {
   "codemirror_mode": {
    "name": "ipython",
    "version": 3
   },
   "file_extension": ".py",
   "mimetype": "text/x-python",
   "name": "python",
   "nbconvert_exporter": "python",
   "pygments_lexer": "ipython3",
   "version": "3.12.3"
  }
 },
 "nbformat": 4,
 "nbformat_minor": 2
}

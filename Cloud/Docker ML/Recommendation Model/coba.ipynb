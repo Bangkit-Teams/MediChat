{
 "cells": [
  {
   "cell_type": "code",
   "execution_count": 9,
   "metadata": {},
   "outputs": [
    {
     "name": "stdout",
     "output_type": "stream",
     "text": [
      "WARNING:tensorflow:5 out of the last 5 calls to <function Model.make_predict_function.<locals>.predict_function at 0x0000022989002AC0> triggered tf.function retracing. Tracing is expensive and the excessive number of tracings could be due to (1) creating @tf.function repeatedly in a loop, (2) passing tensors with different shapes, (3) passing Python objects instead of tensors. For (1), please define your @tf.function outside of the loop. For (2), @tf.function has reduce_retracing=True option that can avoid unnecessary retracing. For (3), please refer to https://www.tensorflow.org/guide/function#controlling_retracing and https://www.tensorflow.org/api_docs/python/tf/function for  more details.\n",
      "1/1 [==============================] - 5s 5s/step\n",
      "[[0.06359068 0.00257908 0.36515507 0.02573522 0.001137   0.03947207\n",
      "  0.22212872 0.00575234 0.00256124 0.02238733 0.00918757 0.07503563\n",
      "  0.04818369 0.01051438 0.04480227 0.06177768]]\n"
     ]
    }
   ],
   "source": [
    "user_message = \"gigi saya berlubang dalam, apakah bisa ditampal\"\n",
    "from flask import Flask, request, jsonify\n",
    "import os\n",
    "from tensorflow.keras.preprocessing.text import tokenizer_from_json\n",
    "from tensorflow.keras.preprocessing.sequence import pad_sequences\n",
    "from tensorflow.keras.models import load_model\n",
    "import numpy as np\n",
    "\n",
    "model = load_model('recommendation.h5')\n",
    "with open('tokenizer.json') as json_file:\n",
    "    tokenizer_json = json_file.read()\n",
    "tokenizer = tokenizer_from_json(tokenizer_json)\n",
    "# Run the model\n",
    "user_message = tokenizer.texts_to_sequences([user_message])\n",
    "user_message = pad_sequences(user_message, maxlen=120, padding='post', truncating='post')\n",
    "output = model.predict(user_message)\n",
    "print(output)\n",
    "\n",
    "if np.max(output) > 0.5:\n",
    "    keluaran = np.argmax(output, axis=1)\n",
    "    print(keluaran)\n",
    "    match keluaran:\n",
    "        case 0:\n",
    "            keluaran = 'dokter umum'\n",
    "        case 1:\n",
    "            keluaran = 'spesialis anak'\n",
    "        case 2:\n",
    "            keluaran = 'spesialis bedah'\n",
    "        case 3:\n",
    "            keluaran = 'spesialis gizi'\n",
    "        case 4:\n",
    "            keluaran = 'spesialis jantung'\n",
    "        case 5:\n",
    "            keluaran = 'spesialis kandungan & kebidanan'\n",
    "        case 6:\n",
    "            keluaran = 'spesialis kulit'\n",
    "        case 7:\n",
    "            keluaran = 'spesialis mata'\n",
    "        case 8:\n",
    "            keluaran = 'spesialis obstetri & ginekologi'\n",
    "        case 9:\n",
    "            keluaran = 'spesialis ortopedi'\n",
    "        case 10:\n",
    "            keluaran = 'spesialis paru'\n",
    "        case 11:\n",
    "            keluaran = 'spesialis penyakit dalam'\n",
    "        case 12:\n",
    "            keluaran = 'spesialis kejiwaan'\n",
    "        case 13:\n",
    "            keluaran = 'spesialis saraf'\n",
    "        case 14:\n",
    "            keluaran = 'spesialis telinga, hidung & tenggorokan'\n",
    "        case 15:\n",
    "            keluaran = 'spesialis urologi'\n",
    "else:\n",
    "    keluaran = \"dokter umum\""
   ]
  },
  {
   "cell_type": "code",
   "execution_count": 10,
   "metadata": {},
   "outputs": [
    {
     "name": "stdout",
     "output_type": "stream",
     "text": [
      "dokter umum\n"
     ]
    }
   ],
   "source": [
    "print(keluaran)"
   ]
  }
 ],
 "metadata": {
  "kernelspec": {
   "display_name": "base",
   "language": "python",
   "name": "python3"
  },
  "language_info": {
   "codemirror_mode": {
    "name": "ipython",
    "version": 3
   },
   "file_extension": ".py",
   "mimetype": "text/x-python",
   "name": "python",
   "nbconvert_exporter": "python",
   "pygments_lexer": "ipython3",
   "version": "3.11.7"
  }
 },
 "nbformat": 4,
 "nbformat_minor": 2
}
